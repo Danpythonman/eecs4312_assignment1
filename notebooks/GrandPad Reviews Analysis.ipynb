{
 "cells": [
  {
   "cell_type": "markdown",
   "metadata": {},
   "source": [
    "# Retrieving and Preprocessing GrandPad Google Play Reviews"
   ]
  },
  {
   "cell_type": "markdown",
   "metadata": {},
   "source": [
    "Import required libraries."
   ]
  },
  {
   "cell_type": "code",
   "execution_count": 1,
   "metadata": {},
   "outputs": [],
   "source": [
    "import pandas as pd\n",
    "from langdetect import detect_langs\n",
    "import re\n",
    "import seaborn as sns\n",
    "import matplotlib.pyplot as plt\n",
    "import os\n",
    "from pathlib import Path\n",
    "from utils.review_utils import get_google_play_data\n",
    "from sklearn.feature_extraction.text import CountVectorizer\n",
    "from sklearn.decomposition import LatentDirichletAllocation\n",
    "import re\n",
    "import nltk\n",
    "from nltk.corpus import stopwords\n",
    "from nltk.stem import WordNetLemmatizer\n",
    "from pathlib import Path\n",
    "import os\n",
    "import pyLDAvis\n",
    "import pyLDAvis.lda_model\n",
    "from utils.review_utils import find_reviews_by_keyword_list"
   ]
  },
  {
   "cell_type": "markdown",
   "metadata": {},
   "source": [
    "## Scraping Data\n",
    "\n",
    "First, scrape the reviews from the Google Play Store."
   ]
  },
  {
   "cell_type": "code",
   "execution_count": 2,
   "metadata": {},
   "outputs": [
    {
     "name": "stdout",
     "output_type": "stream",
     "text": [
      "Score  Content\n",
      "--------------\n",
      "5      Love the app for keeping my family in touch.\n",
      "5      Grandpad is a great way to stay connected to those near and far.\n",
      "5      My 94 year old aunt always tells me how much she loves her GrandPad! She's become very proficient at making phone calls, & sending voice & text messages. And she loves the photo display!\n",
      "5      Enjoyed and used by the whole family\n",
      "4      Great medium to remain in contact with our loved ones.\n"
     ]
    }
   ],
   "source": [
    "# Get reviews\n",
    "APP_ID = 'net.grandpad.puma'\n",
    "reviews = get_google_play_data(APP_ID)\n",
    "df = pd.DataFrame(reviews)\n",
    "\n",
    "# Print a few reviews (just the score and content)\n",
    "print('Score  Content')\n",
    "print('--------------')\n",
    "for i in range(5):\n",
    "    print(f\"{df.iloc[i]['score']:<7}{df.iloc[i]['content']}\")"
   ]
  },
  {
   "cell_type": "code",
   "execution_count": 3,
   "metadata": {},
   "outputs": [
    {
     "name": "stdout",
     "output_type": "stream",
     "text": [
      "Initially there are 1,823 reviews\n"
     ]
    }
   ],
   "source": [
    "# Print number of rows in the data\n",
    "rows0 = df.shape[0]\n",
    "print(f'Initially there are {rows0:,} reviews')"
   ]
  },
  {
   "cell_type": "markdown",
   "metadata": {},
   "source": [
    "The length of the reviews might give important insight into the quality of the review."
   ]
  },
  {
   "cell_type": "code",
   "execution_count": 4,
   "metadata": {},
   "outputs": [],
   "source": [
    "# Make column for word count (of the review content)\n",
    "df['word_count'] = df['content'].str.split().apply(lambda s: 0 if s == None else len(s))"
   ]
  },
  {
   "cell_type": "markdown",
   "metadata": {},
   "source": [
    "Plotting the distribution of the word counts of the reviews, we see that the vast majority of the reviews contain fewer than 10 words."
   ]
  },
  {
   "cell_type": "code",
   "execution_count": 5,
   "metadata": {},
   "outputs": [
    {
     "data": {
      "image/png": "[encoded data removed]",
      "text/plain": [
       "<Figure size 640x480 with 1 Axes>"
      ]
     },
     "metadata": {},
     "output_type": "display_data"
    }
   ],
   "source": [
    "# Histogram of the word count of the reviews\n",
    "sns.histplot(df['word_count'], bins=20)\n",
    "plt.xlabel('Number of Words')\n",
    "plt.ylabel('Frequency')\n",
    "plt.title('Distribution of Word Counts')\n",
    "plt.show()"
   ]
  },
  {
   "cell_type": "markdown",
   "metadata": {},
   "source": [
    "## Removing Short Reviews\n",
    "\n",
    "We will remove short reviews, since they probably don't contain much useful information."
   ]
  },
  {
   "cell_type": "code",
   "execution_count": 6,
   "metadata": {},
   "outputs": [],
   "source": [
    "# Make column for word count (of the review content)\n",
    "df['word_count'] = df['content'].str.split().apply(lambda s: 0 if s == None else len(s))\n",
    "\n",
    "# Remove short reviews\n",
    "REVIEW_WORD_COUNT_THRESHOLD = 10\n",
    "df = df[df['word_count'] >= REVIEW_WORD_COUNT_THRESHOLD]"
   ]
  },
  {
   "cell_type": "code",
   "execution_count": 7,
   "metadata": {},
   "outputs": [
    {
     "name": "stdout",
     "output_type": "stream",
     "text": [
      "After filtering out short reviews, we have 1,063 reviews (removed 760 reviews)\n"
     ]
    }
   ],
   "source": [
    "# Print number of rows in the data after filtering out short reviews\n",
    "rows1 = df.shape[0]\n",
    "print(f'After filtering out short reviews, we have {rows1:,} reviews (removed {rows0 - rows1:,} reviews)')"
   ]
  },
  {
   "cell_type": "markdown",
   "metadata": {},
   "source": [
    "## Splitting Reviews By Rating\n",
    "\n",
    "It is likely that reviews that rate the app highly will have positive things to say about the app, whereas reviews with lower ratings will contain complaints about the app.\n",
    "Positive reviews can be used to detect requirements that are being satisfied and negative reviews can point to ignored requirements (or new, previously unspecified requirements).\n",
    "\n",
    "Shown below, most of the reviews are 1 star, with 5 star reviews following close behind.\n",
    "Reviews with 2, 3, and 4 stars are significantly smaller in number, but when combined together have almost the same amount as the 1 and 5 star reviews."
   ]
  },
  {
   "cell_type": "code",
   "execution_count": 8,
   "metadata": {},
   "outputs": [
    {
     "name": "stdout",
     "output_type": "stream",
     "text": [
      "score\n",
      "1     46\n",
      "2     17\n",
      "3     36\n",
      "4     80\n",
      "5    884\n",
      "Name: count, dtype: int64\n"
     ]
    }
   ],
   "source": [
    "# Print the counts of each rating\n",
    "print(df['score'].value_counts().sort_index())"
   ]
  },
  {
   "cell_type": "code",
   "execution_count": 9,
   "metadata": {},
   "outputs": [],
   "source": [
    "# Split the reviews into negative (1 star), mixed (2, 3, and 4 stars), and\n",
    "# positive (5 stars)\n",
    "df_negative = df[df['score'] == 1].copy()\n",
    "df_mixed = df[(df['score'] == 2) | (df['score'] == 3) | (df['score'] == 4)].copy()\n",
    "df_positive = df[df['score'] == 5].copy()"
   ]
  },
  {
   "cell_type": "markdown",
   "metadata": {},
   "source": [
    "Shown below, the 1 star reviews are mostly negative,"
   ]
  },
  {
   "cell_type": "code",
   "execution_count": 10,
   "metadata": {},
   "outputs": [
    {
     "name": "stdout",
     "output_type": "stream",
     "text": [
      "Speakerphone no longer working I would give zero stars if possible\n",
      "\n",
      "95% of the time, it seems, this is worthless. My aunt is in a nursing home -- that's why I bought a grandpad, but I usually cannot hear her. Yes, I have tried numerous times w the help center.\n",
      "\n",
      "This app is not functioning as it should. I was on a regular phone call and the Grandpad rang through while I was on the phone call, interrupting my call. Additionally, I had my phone on no not disturb and the Grandpad app still somehow rang through. There are bugs that need to be worked out because this app is terrible.\n",
      "\n",
      "I am so upset right now because I put in my email address and they say it's wrong what does this app want lies a am starting to believe that this app is a scam I am Uninstalling they won't let me do my email account because they say they don't have it developers please fix this issue I am feeling sad 😔 right now so disappointed 😥 this app looked like fun only problem is that they don't like my email account\n",
      "\n",
      "Unable to Personalize GrandPad as Administrator. Calling Support hasn't helped.\n",
      "\n"
     ]
    }
   ],
   "source": [
    "for i in range(5):\n",
    "    print(f\"{df_negative.iloc[i]['content']}\\n\")"
   ]
  },
  {
   "cell_type": "markdown",
   "metadata": {},
   "source": [
    "the 2, 3, and 4 star reviews are mixed,"
   ]
  },
  {
   "cell_type": "code",
   "execution_count": 11,
   "metadata": {},
   "outputs": [
    {
     "name": "stdout",
     "output_type": "stream",
     "text": [
      "Great medium to remain in contact with our loved ones.\n",
      "\n",
      "Once you have figured out how to set it up it's an awesome device. It almost got thrown across the room while I was trying to get it up and running for my 86 yo mother who has dementia. Once it's set up though it's easy. I highly recommend to get this before the senior citizen is as advanced in dementia as my mom is. She is scared of it and even though I tell her to practice and reassure her she can't mess it up she still won't use it alone.\n",
      "\n",
      "So far, this app is great. My grandma is having an easier time with this than other social apps\n",
      "\n",
      "I have a few questions on posting things & submitted it. Waiting on a response.\n",
      "\n",
      "The app is fantastic. It's a great way to keep in touch with loved ones. I love that I can post videos and pictures or do video calls with anyone in my family who has access to the app. Also I love some of the recent changes. Keep up the good work, Grandpad!\n",
      "\n"
     ]
    }
   ],
   "source": [
    "for i in range(5):\n",
    "    print(f\"{df_mixed.iloc[i]['content']}\\n\")"
   ]
  },
  {
   "cell_type": "markdown",
   "metadata": {},
   "source": [
    "and the 5 star reviews are mostly positive."
   ]
  },
  {
   "cell_type": "code",
   "execution_count": 12,
   "metadata": {},
   "outputs": [
    {
     "name": "stdout",
     "output_type": "stream",
     "text": [
      "Grandpad is a great way to stay connected to those near and far.\n",
      "\n",
      "My 94 year old aunt always tells me how much she loves her GrandPad! She's become very proficient at making phone calls, & sending voice & text messages. And she loves the photo display!\n",
      "\n",
      "Easy to use! Large variety of music, easy to load photos!\n",
      "\n",
      "This makes sharing photos and memories with my senior citizen father much easier. We are able to connect very easily and he can call me without memorizing a phone number. That adds to helping him feel more independent as he ages.\n",
      "\n",
      "The screen and user interface are simple, and easy to use for mom. Just the right features to stay in touch and share photos/videos.\n",
      "\n"
     ]
    }
   ],
   "source": [
    "for i in range(5):\n",
    "    print(f\"{df_positive.iloc[i]['content']}\\n\")"
   ]
  },
  {
   "cell_type": "markdown",
   "metadata": {},
   "source": [
    "## Saving Preprocessed Data to Files\n",
    "\n",
    "As the last step, we will save the dataframes to CSV files so that they can be used later."
   ]
  },
  {
   "cell_type": "code",
   "execution_count": 13,
   "metadata": {},
   "outputs": [],
   "source": [
    "# Path of this notebook\n",
    "NOTEBOOK_PATH = Path(os.path.abspath(''))\n",
    "\n",
    "# Path of data files\n",
    "DATA_PATH = NOTEBOOK_PATH.parent / 'data'\n",
    "\n",
    "# Ensure data directory exists\n",
    "DATA_PATH.mkdir(exist_ok=True)\n",
    "\n",
    "# Save dataframes\n",
    "df_positive.to_csv(DATA_PATH / 'positive_reviews.csv', index=False)\n",
    "df_mixed.to_csv(DATA_PATH / 'mixed_reviews.csv', index=False)\n",
    "df_negative.to_csv(DATA_PATH / 'negative_reviews.csv', index=False)"
   ]
  },
  {
   "cell_type": "markdown",
   "metadata": {},
   "source": [
    "# Performing LDA Analysis\n",
    "\n",
    "Now that the reviews have been preprocessed, we will analyze each category of reviews by applying an LDA (Latent Dirichlet Allocation) model."
   ]
  },
  {
   "cell_type": "markdown",
   "metadata": {},
   "source": [
    "First, we define a function for preparing text for LDA analysis."
   ]
  },
  {
   "cell_type": "code",
   "execution_count": 14,
   "metadata": {},
   "outputs": [
    {
     "name": "stderr",
     "output_type": "stream",
     "text": [
      "[nltk_data] Downloading package wordnet to /home/daniel/nltk_data...\n",
      "[nltk_data]   Package wordnet is already up-to-date!\n"
     ]
    }
   ],
   "source": [
    "nltk.download('wordnet')\n",
    "\n",
    "numbers_re = re.compile(r'\\d+')\n",
    "punctuation_re = re.compile(r'[^\\w\\s]')\n",
    "extra_spaces_re = re.compile(r'\\s+')\n",
    "\n",
    "lemmatizer = WordNetLemmatizer()\n",
    "\n",
    "def preprocess_text(text):\n",
    "    \"\"\"\n",
    "    Cleans `text` by:\n",
    "      - setting it to lower case,\n",
    "      - removing numbers,\n",
    "      - removing punctuation,\n",
    "      - removing extra spaces,\n",
    "      - lemmatizing words, and\n",
    "      - removing stopwords.\n",
    "    \"\"\"\n",
    "    text = text.lower()\n",
    "    text = numbers_re.sub(r'', text)\n",
    "    text = punctuation_re.sub('', text)\n",
    "    text = extra_spaces_re.sub(' ', text)\n",
    "    text = ' '.join([lemmatizer.lemmatize(word) for word in text.split() if word not in stopwords.words('english')])\n",
    "    return text"
   ]
  },
  {
   "cell_type": "markdown",
   "metadata": {},
   "source": [
    "Next, we define a function for creating the LDA model given a dataframe containing reviews."
   ]
  },
  {
   "cell_type": "code",
   "execution_count": 15,
   "metadata": {},
   "outputs": [],
   "source": [
    "def make_lda_model(df: pd.DataFrame):\n",
    "    \"\"\"\n",
    "    Makes a LatentDirichletAllocation (LDA) model of the data in `df` DataFrame.\n",
    "    `df` must have a `'cleaned_content'` column that contains the cleaned\n",
    "    content of the reviews.\n",
    "\n",
    "    Returns:\n",
    "\n",
    "    `lda_model` - the generated LDA model.\n",
    "\n",
    "    `vectorizer` - the vectorizer that was used on the reviews to convert the\n",
    "    text data into numbers.\n",
    "\n",
    "    `X` - the vectorized data of the cleaned reviews.\n",
    "    \"\"\"\n",
    "    # Vectorize the text (turn words into numerical data)\n",
    "    vectorizer = CountVectorizer(max_df=0.95, min_df=2, stop_words='english')\n",
    "    X = vectorizer.fit_transform(df['cleaned_content'])\n",
    "\n",
    "    # Apply LDA for topic modeling\n",
    "    NUMBER_OF_TOPICS = 5\n",
    "    lda_model = LatentDirichletAllocation(n_components=NUMBER_OF_TOPICS, random_state=42)\n",
    "    lda_model.fit(X)\n",
    "\n",
    "    # Assign topics to reviews\n",
    "    df['topic'] = lda_model.transform(X).argmax(axis=1)\n",
    "\n",
    "    # Map topic numbers so that they start at 1 instead of 0 and are sorted in\n",
    "    # decreasing order\n",
    "    topic_sizes = df['topic'].value_counts().sort_values(ascending=False)\n",
    "    size_based_mapping = {old_topic: new_topic + 1 for new_topic, old_topic in enumerate(topic_sizes.index)}\n",
    "    df['topic'] = df['topic'].map(size_based_mapping)\n",
    "\n",
    "    def print_top_words(model, feature_names, n_top_words=10):\n",
    "        \"\"\"\n",
    "        Prints the top words in each topic.\n",
    "        \"\"\"\n",
    "        topics_map = {}\n",
    "        for i, topic in enumerate(model.components_):\n",
    "            topics_map[size_based_mapping[i]] = \" \".join([feature_names[j] for j in topic.argsort()[:-n_top_words - 1:-1]])\n",
    "        for i in sorted(topics_map.keys()):\n",
    "            print(f'Topic #{i}: {topics_map[i]}')\n",
    "\n",
    "    # Print top words in each topic\n",
    "    print_top_words(lda_model, vectorizer.get_feature_names_out())\n",
    "\n",
    "    return lda_model, vectorizer, X"
   ]
  },
  {
   "cell_type": "markdown",
   "metadata": {},
   "source": [
    "## LDA Model for Positive Reviews\n",
    "\n",
    "Creating and analyzing an LDA model for positive reviews."
   ]
  },
  {
   "cell_type": "code",
   "execution_count": 16,
   "metadata": {},
   "outputs": [],
   "source": [
    "# Clean the content in the dataframe for positive reviews\n",
    "df_positive['cleaned_content'] = df_positive['content'].apply(preprocess_text)"
   ]
  },
  {
   "cell_type": "code",
   "execution_count": 17,
   "metadata": {},
   "outputs": [
    {
     "name": "stdout",
     "output_type": "stream",
     "text": [
      "Topic #1: family easy use great touch way stay grandpad year connected\n",
      "Topic #2: love family great video picture mom app share able photo\n",
      "Topic #3: grandpad service family easy use mom customer wonderful phone best\n",
      "Topic #4: grandpad use able love mother phone easy home mom computer\n",
      "Topic #5: family life way great able far wonderful away senior time\n"
     ]
    }
   ],
   "source": [
    "# Make LDA model for positive reviews\n",
    "lda_model_positive, vectorizer_positive, X_positive = make_lda_model(df_positive)"
   ]
  },
  {
   "cell_type": "code",
   "execution_count": 18,
   "metadata": {},
   "outputs": [
    {
     "data": {
      "text/html": [
       "\n",
       "<link rel=\"stylesheet\" type=\"text/css\" href=\"https://cdn.jsdelivr.net/gh/bmabey/pyLDAvis@3.4.0/pyLDAvis/js/ldavis.v1.0.0.css\">\n",
       "\n",
       "\n",
       "<div id=\"ldavis_el5897001303293050267849303043952\" style=\"background-color:white;\"></div>\n",
       "<script type=\"text/javascript\">\n",
       "\n",
       "var ldavis_el5897001303293050267849303043952_data = {\"mdsDat\": {\"x\": [-0.0937229041513691, -0.041837324714425396, 0.07135219790073814, 0.13856436997487676, -0.07435633900982028], \"y\": [0.0069559505853536785, -0.13646020412686802, -0.018870041913857886, 0.034387403801676056, 0.11398689165369616], \"topics\": [1, 2, 3, 4, 5], \"cluster\": [1, 1, 1, 1, 1], \"Freq\": [26.284432899492938, 26.1863961630372, 18.621434537829053, 17.195190387035968, 11.71254601260484]}, \"tinfo\": {\"Term\": [\"use\", \"easy\", \"stay\", \"family\", \"service\", \"touch\", \"connected\", \"home\", \"life\", \"able\", \"way\", \"far\", \"year\", \"love\", \"nursing\", \"computer\", \"away\", \"customer\", \"best\", \"wonderful\", \"phone\", \"grandpad\", \"picture\", \"day\", \"visit\", \"highly\", \"video\", \"time\", \"awesome\", \"great\", \"seeing\", \"sharing\", \"updated\", \"rest\", \"different\", \"send\", \"finally\", \"chatting\", \"posted\", \"child\", \"lonely\", \"went\", \"update\", \"grandchild\", \"pic\", \"stranger\", \"busy\", \"awsome\", \"pop\", \"tap\", \"regularly\", \"view\", \"cute\", \"growing\", \"happening\", \"learn\", \"luv\", \"list\", \"upload\", \"grandmother\", \"picture\", \"grandma\", \"love\", \"information\", \"video\", \"text\", \"state\", \"grand\", \"living\", \"post\", \"pad\", \"grandkids\", \"share\", \"family\", \"message\", \"assisted\", \"chat\", \"app\", \"member\", \"great\", \"live\", \"mom\", \"face\", \"photo\", \"able\", \"best\", \"talk\", \"way\", \"touch\", \"grandpad\", \"life\", \"time\", \"mother\", \"stay\", \"designed\", \"capability\", \"informed\", \"manage\", \"everybody\", \"remotely\", \"connected\", \"safe\", \"simplicity\", \"grandparent\", \"independently\", \"enables\", \"point\", \"restriction\", \"slide\", \"setup\", \"scammed\", \"wifi\", \"needing\", \"curve\", \"theyve\", \"change\", \"telephone\", \"crisis\", \"edit\", \"socially\", \"momma\", \"impaired\", \"order\", \"touch\", \"ability\", \"easy\", \"team\", \"straight\", \"use\", \"aunt\", \"interface\", \"year\", \"way\", \"helpful\", \"extremely\", \"staff\", \"support\", \"simple\", \"old\", \"enjoyed\", \"parent\", \"great\", \"app\", \"family\", \"dad\", \"older\", \"covid\", \"country\", \"grandpad\", \"friend\", \"contact\", \"mom\", \"connect\", \"device\", \"wonderful\", \"elderly\", \"love\", \"photo\", \"video\", \"mother\", \"outstanding\", \"site\", \"pleased\", \"provides\", \"trying\", \"started\", \"ipad\", \"quickly\", \"explore\", \"closed\", \"experienced\", \"direct\", \"short\", \"cost\", \"latest\", \"bridge\", \"including\", \"service\", \"navigate\", \"caught\", \"satisfied\", \"followup\", \"putting\", \"public\", \"advertised\", \"speak\", \"newer\", \"grow\", \"gap\", \"inclined\", \"customer\", \"huge\", \"want\", \"problem\", \"operate\", \"perfect\", \"hearing\", \"fabulous\", \"close\", \"medium\", \"social\", \"little\", \"excellent\", \"happy\", \"like\", \"grandpad\", \"given\", \"group\", \"wonderful\", \"people\", \"yr\", \"day\", \"best\", \"phone\", \"easy\", \"help\", \"mom\", \"right\", \"use\", \"family\", \"year\", \"support\", \"tech\", \"photo\", \"need\", \"pad\", \"old\", \"loved\", \"parent\", \"love\", \"mother\", \"product\", \"member\", \"great\", \"nursing\", \"home\", \"today\", \"gave\", \"locked\", \"clearly\", \"visit\", \"charge\", \"hang\", \"card\", \"discovered\", \"stroke\", \"virus\", \"confusing\", \"gotten\", \"age\", \"son\", \"ur\", \"computer\", \"yearold\", \"father\", \"click\", \"icon\", \"wait\", \"individual\", \"tab\", \"birth\", \"assistance\", \"night\", \"purchase\", \"user\", \"highly\", \"memory\", \"physically\", \"large\", \"thought\", \"recommend\", \"day\", \"everyday\", \"phone\", \"able\", \"elderly\", \"mother\", \"easier\", \"best\", \"use\", \"thank\", \"cell\", \"covid\", \"grandpad\", \"wish\", \"used\", \"love\", \"mom\", \"easy\", \"device\", \"video\", \"parent\", \"product\", \"great\", \"communicate\", \"time\", \"make\", \"life\", \"service\", \"app\", \"brought\", \"citizen\", \"voice\", \"near\", \"electronic\", \"saver\", \"slideshow\", \"typing\", \"ideal\", \"grandson\", \"taught\", \"meet\", \"respond\", \"programmed\", \"visually\", \"provided\", \"creator\", \"caretaker\", \"bingo\", \"bring\", \"pretty\", \"note\", \"longer\", \"favorite\", \"maintain\", \"phenomenal\", \"look\", \"sent\", \"scammer\", \"closer\", \"whats\", \"far\", \"fantastic\", \"play\", \"person\", \"awesome\", \"away\", \"life\", \"good\", \"senior\", \"mile\", \"game\", \"uncle\", \"loved\", \"time\", \"wonderful\", \"family\", \"way\", \"able\", \"world\", \"new\", \"comment\", \"old\", \"mother\", \"year\", \"great\", \"photo\", \"love\", \"grandpad\", \"touch\", \"share\", \"mom\", \"talk\"], \"Freq\": [218.0, 204.0, 95.0, 361.0, 60.0, 134.0, 86.0, 32.0, 72.0, 123.0, 148.0, 32.0, 123.0, 268.0, 24.0, 35.0, 40.0, 40.0, 73.0, 76.0, 76.0, 256.0, 98.0, 39.0, 24.0, 32.0, 143.0, 58.0, 27.0, 264.0, 22.43101754944981, 19.708416485683053, 7.624071650778512, 7.618921224891384, 5.760657839238688, 28.892300907729208, 3.904096711180272, 3.9033136592090787, 3.9025196593660274, 10.133004954003079, 3.8957277272999185, 3.787663360105694, 8.31607956276556, 17.2044131888066, 13.460760977122188, 2.975371172909419, 2.974689828649195, 2.974177335258953, 2.9733175797758795, 2.9728103212854906, 2.972645308452136, 2.9719080838523646, 2.9718763443260663, 2.9702926090716657, 2.9700492431636016, 2.9680512507246686, 2.9519641527235336, 6.632285717407867, 6.397863525198076, 28.70690110849839, 68.39981041379546, 30.72839103514968, 150.58285272178702, 5.596268915931965, 82.12506560492889, 6.81753271699719, 14.302476682091761, 25.813271431943274, 15.905384555340838, 17.91838217297192, 25.556320618042523, 14.992139718131185, 40.629762227504216, 142.48966936701356, 12.902179985407958, 11.63417923089498, 22.3764001000262, 54.217403000827495, 25.42126119768154, 87.30390420921529, 16.465132989114682, 54.68191082082556, 16.04601030838185, 35.57890869042518, 37.24132723125361, 24.74460291428919, 17.503440029549928, 29.130746171244375, 27.7756837404079, 31.469280966219962, 20.277522943757887, 18.674349617616496, 20.74826670503878, 80.1023941399436, 3.7274450193956565, 2.9670012203800864, 2.9662610298393317, 2.96230700077479, 2.957069732417981, 2.95032916302995, 67.34590107596847, 17.29243976213392, 4.824159380801679, 17.912871096327915, 2.040719891629402, 2.0407182089179448, 2.0407157716733857, 2.040714593927296, 2.0407130416774617, 2.040705484589532, 2.04045696038764, 2.0401062827595893, 2.040099053242337, 2.039695151689418, 2.0391134065782763, 2.0391035298086044, 2.039056125201552, 2.039045777116957, 2.0385971992343537, 2.038586440221105, 2.0363790004822704, 2.034650643324282, 2.032971450854673, 89.38060270359306, 10.377620787172777, 127.88284061672252, 4.626057635083546, 3.3244138742233127, 124.96965755577187, 12.207919910941126, 5.74960540228535, 69.27721140942664, 80.70362937090256, 12.97846317716833, 4.4729724127595585, 7.322792800077051, 17.43172950646278, 23.00431034117791, 54.01774315627139, 3.7898752114778445, 38.02006962347662, 117.57032841944805, 59.55805905288912, 132.0650075022342, 27.15838385097713, 18.21600853206984, 22.75321870147952, 7.3771591430587815, 75.93381423464817, 18.427431695590805, 18.882310827943463, 45.28844012963477, 13.890581742274005, 19.85608266287442, 23.650377521714585, 20.687687998472537, 39.69795849670706, 23.13441122512289, 25.637826525392807, 21.314848504698837, 5.759995143642823, 4.8317592138232515, 4.831219374032087, 4.826218852915325, 3.9024635549137954, 3.9008627649055634, 3.900576520396324, 3.898160161431544, 2.9736811202533717, 2.9735257809755344, 2.973478069775713, 2.9717534082856734, 2.970916262856896, 2.96670328083968, 2.960051551324637, 2.958755158148528, 2.9531014158671733, 45.04093148984008, 7.598389397460387, 2.044726286244293, 2.044725997535522, 2.0447259278165557, 2.0447236878711665, 2.044717442013911, 2.044716945500338, 2.0445391962342887, 2.0441572518256437, 2.0435917142434192, 2.043231183811994, 2.042801467580353, 29.41637431494463, 4.762186641141937, 13.816821969412354, 12.364950222134837, 3.9030378296198145, 15.49138024637452, 4.946210861358191, 3.8112023395787262, 10.119770074448265, 14.36882913472599, 15.337637638022464, 8.3406946875218, 18.982863577648153, 11.294966465603661, 19.328814159266194, 79.54853900815118, 6.852615402766527, 6.6918115220271375, 26.16926055052894, 11.684037384739417, 9.523154978701692, 15.688228933589906, 23.09121252567843, 23.437375743675233, 40.45647371095542, 17.051409437113012, 34.31488014974587, 7.157672289175026, 36.62271543917537, 43.46364580912329, 22.14838166994366, 10.783601010736337, 9.661693914188994, 19.12434110317749, 9.843095211717383, 12.915058698934043, 18.770747823383992, 13.134519115446526, 14.0588449557359, 20.547948047934998, 14.272919666474618, 11.92937880722225, 11.803773291768534, 12.090665927583533, 23.299295252160526, 31.238130362504894, 6.653491043054936, 4.804782372666271, 3.880406245344785, 3.880382394929119, 20.540755067339795, 2.95901317415673, 2.9590052863660743, 2.9585425700541492, 2.9577470628158293, 2.957564409758044, 2.9573621788849085, 2.9548729946404326, 2.954625854853097, 2.954390812329216, 2.9533598812449506, 2.9481290387673007, 27.745686418450386, 6.548901200257109, 15.39343215683056, 2.0343211135408317, 2.0343191533190046, 2.0343186798376336, 2.0343132780186055, 2.034310863525361, 2.0341356337623857, 2.0340128612916817, 2.0340109329325693, 2.033939324602882, 13.819102748026285, 22.51572658294404, 8.891899264248716, 4.498100748516035, 3.880467086430241, 5.474721381261464, 22.62551791674999, 21.582932145349453, 7.142102970489999, 34.12206668103932, 47.830112528415945, 25.229508611498943, 36.40342768178645, 8.702486614826206, 25.09715749067842, 51.63862459229306, 17.401231596296565, 8.830729806479502, 17.91927240334995, 53.25862090258101, 5.502262167244071, 8.675729576861832, 40.967126287131585, 29.99028831086768, 31.85290663774413, 15.254273471720479, 23.923441653432636, 16.812969052167368, 13.44392120647257, 25.66245381714516, 11.25757023839466, 13.694131384466443, 11.863187335273226, 12.967588209736823, 11.518648021584573, 11.793407361113212, 8.475076017578301, 5.718624038382716, 12.898565981907007, 4.797280794024752, 3.860077658333362, 2.9527209169060473, 2.9522734707405935, 2.9503380330629096, 2.9494827003339927, 2.9491794408833734, 2.945371515715335, 2.0301131391038365, 2.0292310525324857, 2.029125841871469, 2.028732556967457, 2.028403946341931, 2.0282531881644155, 2.027529083937951, 2.0273083112915997, 2.027070142229603, 2.026358622967872, 2.025839397458148, 2.025174968909678, 5.3983319868018835, 2.0234906863977806, 2.0191427340992183, 7.348458113341873, 3.876457801731879, 3.8046769280655592, 6.84934585195247, 5.599209079075377, 20.037032426761364, 11.028236646134287, 11.707456667192524, 13.258095936315154, 13.381897676232711, 18.16146439113836, 27.157164543938208, 11.89396539144498, 17.127463678423204, 8.804395201849966, 15.55629481114793, 3.722876050189207, 16.08484132112927, 16.50357537855929, 18.28345923406342, 40.54748533034153, 24.179546254852077, 20.18360532610214, 6.955672384859681, 8.33509134880619, 8.16392254124874, 16.212634265413364, 15.67363771315535, 16.035250574957164, 21.787571127153583, 13.274909276788494, 16.48417365546671, 15.792855377100025, 12.511371007595969, 10.34884064253973, 11.09347006659986, 8.597043584834575], \"Total\": [218.0, 204.0, 95.0, 361.0, 60.0, 134.0, 86.0, 32.0, 72.0, 123.0, 148.0, 32.0, 123.0, 268.0, 24.0, 35.0, 40.0, 40.0, 73.0, 76.0, 76.0, 256.0, 98.0, 39.0, 24.0, 32.0, 143.0, 58.0, 27.0, 264.0, 23.2451363565921, 20.45548648204516, 8.366360217540246, 8.366330430118373, 6.506482011484082, 33.45063963639251, 4.646621704973646, 4.6466122590747085, 4.646614585815273, 12.079273463053527, 4.646566196644263, 4.646556320899625, 10.223252568537552, 21.362820114872996, 16.729412186294493, 3.7166909007717837, 3.716682870721486, 3.716690241655533, 3.716674109129113, 3.7166881436224437, 3.7166726902880938, 3.7166836487776385, 3.716689003402615, 3.716660232313739, 3.716670891007315, 3.7166490025893575, 3.7165530355238587, 8.365811494838908, 8.365678493378574, 38.09089389936048, 98.42973806297286, 45.51907808449956, 268.28005920902734, 7.43581393420006, 143.9207621545512, 9.286481774416073, 21.3652117070201, 41.81251427619298, 25.074959110498277, 28.79432400410699, 43.67055718801466, 24.158002357994707, 78.88684407354738, 361.98505357697877, 20.425315566622913, 18.580053251138533, 43.60137395715762, 138.3139504166664, 52.028578307051355, 264.41492350054557, 29.682596193949525, 175.36898947767372, 29.695690015399816, 98.36043816700003, 123.22087182299077, 73.30796165115359, 39.8665962428137, 148.36151760487002, 134.51530471565928, 256.0031104887004, 72.24399306899727, 58.3747361858392, 108.41310027115402, 95.5281822999741, 4.636435057412671, 3.709697640193545, 3.7096990449230143, 3.709681531663581, 3.709685590230061, 3.709666247313642, 86.28142195238503, 22.264364941078117, 6.494324336038112, 24.129941802323618, 2.7820945788376656, 2.7820945751189834, 2.7820945734482594, 2.7820945704261253, 2.7820945665060295, 2.7820945530241805, 2.7820950789209333, 2.7820957506736015, 2.782095737088203, 2.7820971280428024, 2.7820977256751567, 2.782097710723165, 2.7820900895913314, 2.782085912542275, 2.7820936768078783, 2.7820942193565403, 2.7820810127220033, 2.7821097189711814, 2.7821140089009666, 134.51530471565928, 14.826978220998058, 204.04395299614154, 6.494716775154144, 4.6355143226363165, 218.83625038215837, 18.52593363828925, 8.341940962728515, 123.36793319052438, 148.36151760487002, 20.398872058372064, 6.4943223181787575, 11.136497139201529, 28.775740858704076, 40.803198738276436, 109.42727617268054, 5.559847618034372, 74.19475254457976, 264.41492350054557, 138.3139504166664, 361.98505357697877, 55.621329194407366, 35.26730127739281, 49.996970182552715, 12.068010635938494, 256.0031104887004, 40.84366500499294, 44.533263957009915, 175.36898947767372, 31.517087177210257, 56.55009349105415, 76.03803315526338, 63.9418626707392, 268.28005920902734, 98.36043816700003, 143.9207621545512, 108.41310027115402, 6.50342466777329, 5.574000994832248, 5.5740036499669685, 5.573996134638115, 4.6445792693241765, 4.644581080126694, 4.644572089633263, 4.644555552511572, 3.7151563358616713, 3.715157489623375, 3.715157390393385, 3.715141620084443, 3.7151604829590426, 3.71511242128086, 3.715164498808603, 3.7151664275608534, 3.7150942976017207, 60.347539428124136, 10.213225654683574, 2.7857349243732936, 2.7857349228070265, 2.7857349229621504, 2.7857349129152627, 2.785734886950105, 2.7857348830908006, 2.7857336071946577, 2.7857320294347483, 2.7857353820129025, 2.7857346881474894, 2.7857311177586297, 40.846040965948234, 6.503950559425681, 20.41071186136585, 18.562162849624897, 5.569271456798126, 26.013031980888723, 7.423897401441526, 5.572011933659368, 16.72500886165957, 25.072351905998122, 27.85705086956001, 13.926756481800362, 38.05262949946925, 20.42250801850281, 39.92631582513824, 256.0031104887004, 11.15247694039548, 11.15257525625285, 76.03803315526338, 25.067915016381118, 19.500643300726573, 39.83876225703489, 73.30796165115359, 76.94969558346558, 204.04395299614154, 53.83649385771523, 175.36898947767372, 12.98687175345044, 218.83625038215837, 361.98505357697877, 123.36793319052438, 28.775740858704076, 23.16966255632143, 98.36043816700003, 24.093653988574353, 43.67055718801466, 109.42727617268054, 55.57893021508559, 74.19475254457976, 268.28005920902734, 108.41310027115402, 47.25761515825033, 52.028578307051355, 264.41492350054557, 24.044224878760197, 32.36861616616178, 7.399749433144004, 5.550362172442089, 4.625665204885955, 4.625674897004903, 24.962839437232308, 3.7009668109190526, 3.700966826338491, 3.7009688478008327, 3.700972924267631, 3.7009726886238514, 3.7009761454375902, 3.700979833469898, 3.7009902729410173, 3.7009629962553054, 3.7009952772802057, 3.701025620579226, 35.15979639077137, 8.330289380898689, 20.36446067091065, 2.7762736580498695, 2.7762736624454103, 2.776273663025934, 2.7762736737120104, 2.776273679491454, 2.776274699940049, 2.776274627130052, 2.7762746312259696, 2.7762748587223576, 19.436066654290755, 32.384075671264945, 12.959315948755348, 6.480809399879698, 5.5556023145762214, 8.331070037600453, 41.6733107496198, 39.83876225703489, 12.045050020090027, 76.94969558346558, 123.22087182299077, 63.9418626707392, 108.41310027115402, 15.732662096646576, 73.30796165115359, 218.83625038215837, 46.32345816129306, 17.61223713238533, 49.996970182552715, 256.0031104887004, 9.26364640070291, 19.45504423210764, 268.28005920902734, 175.36898947767372, 204.04395299614154, 56.55009349105415, 143.9207621545512, 74.19475254457976, 47.25761515825033, 264.41492350054557, 33.37558461096816, 58.3747361858392, 50.086921271151965, 72.24399306899727, 60.347539428124136, 138.3139504166664, 9.23200272340988, 6.463592684372156, 14.776704280027287, 5.540802837715454, 4.6181315085901025, 3.6952329432772935, 3.695235282027644, 3.695249439383846, 3.695249866321693, 3.695255246254382, 3.695264655456465, 2.7724504848695495, 2.7724573174404776, 2.77245564387193, 2.772460407063913, 2.7724540249511316, 2.772464903755697, 2.7724651573352954, 2.7724691307645735, 2.7724644694316654, 2.7724701043624522, 2.7724793640903513, 2.772476362455018, 7.395325030459693, 2.772495200019309, 2.7725189405724784, 10.16047983161569, 5.54793588938119, 5.545986745094822, 10.174569494624034, 8.324381593051488, 32.38372625034803, 17.567091193659103, 20.345698347545483, 24.057469841827057, 27.756604830284306, 40.770368674423295, 72.24399306899727, 25.90561442261021, 45.37626607882858, 19.457003427204235, 46.33680532727335, 6.4758585716414245, 55.57893021508559, 58.3747361858392, 76.03803315526338, 361.98505357697877, 148.36151760487002, 123.22087182299077, 17.602284214394075, 25.0188494433824, 25.956219974252562, 109.42727617268054, 108.41310027115402, 123.36793319052438, 264.41492350054557, 98.36043816700003, 268.28005920902734, 256.0031104887004, 134.51530471565928, 78.88684407354738, 175.36898947767372, 39.8665962428137], \"Category\": [\"Default\", \"Default\", \"Default\", \"Default\", \"Default\", \"Default\", \"Default\", \"Default\", \"Default\", \"Default\", \"Default\", \"Default\", \"Default\", \"Default\", \"Default\", \"Default\", \"Default\", \"Default\", \"Default\", \"Default\", \"Default\", \"Default\", \"Default\", \"Default\", \"Default\", \"Default\", \"Default\", \"Default\", \"Default\", \"Default\", \"Topic1\", \"Topic1\", \"Topic1\", \"Topic1\", \"Topic1\", \"Topic1\", \"Topic1\", \"Topic1\", \"Topic1\", \"Topic1\", \"Topic1\", \"Topic1\", \"Topic1\", \"Topic1\", \"Topic1\", \"Topic1\", \"Topic1\", \"Topic1\", \"Topic1\", \"Topic1\", \"Topic1\", \"Topic1\", \"Topic1\", \"Topic1\", \"Topic1\", \"Topic1\", \"Topic1\", \"Topic1\", \"Topic1\", \"Topic1\", \"Topic1\", \"Topic1\", \"Topic1\", \"Topic1\", \"Topic1\", \"Topic1\", \"Topic1\", \"Topic1\", \"Topic1\", \"Topic1\", \"Topic1\", \"Topic1\", \"Topic1\", \"Topic1\", \"Topic1\", \"Topic1\", \"Topic1\", \"Topic1\", \"Topic1\", \"Topic1\", \"Topic1\", \"Topic1\", \"Topic1\", \"Topic1\", \"Topic1\", \"Topic1\", \"Topic1\", \"Topic1\", \"Topic1\", \"Topic1\", \"Topic1\", \"Topic1\", \"Topic1\", \"Topic2\", \"Topic2\", \"Topic2\", \"Topic2\", \"Topic2\", \"Topic2\", \"Topic2\", \"Topic2\", \"Topic2\", \"Topic2\", \"Topic2\", \"Topic2\", \"Topic2\", \"Topic2\", \"Topic2\", \"Topic2\", \"Topic2\", \"Topic2\", \"Topic2\", \"Topic2\", \"Topic2\", \"Topic2\", \"Topic2\", \"Topic2\", \"Topic2\", \"Topic2\", \"Topic2\", \"Topic2\", \"Topic2\", \"Topic2\", \"Topic2\", \"Topic2\", \"Topic2\", \"Topic2\", \"Topic2\", \"Topic2\", \"Topic2\", \"Topic2\", \"Topic2\", \"Topic2\", \"Topic2\", \"Topic2\", \"Topic2\", \"Topic2\", \"Topic2\", \"Topic2\", \"Topic2\", \"Topic2\", \"Topic2\", \"Topic2\", \"Topic2\", \"Topic2\", \"Topic2\", \"Topic2\", \"Topic2\", \"Topic2\", \"Topic2\", \"Topic2\", \"Topic2\", \"Topic2\", \"Topic2\", \"Topic2\", \"Topic2\", \"Topic2\", \"Topic2\", \"Topic2\", \"Topic2\", \"Topic3\", \"Topic3\", \"Topic3\", \"Topic3\", \"Topic3\", \"Topic3\", \"Topic3\", \"Topic3\", \"Topic3\", \"Topic3\", \"Topic3\", \"Topic3\", \"Topic3\", \"Topic3\", \"Topic3\", \"Topic3\", \"Topic3\", \"Topic3\", \"Topic3\", \"Topic3\", \"Topic3\", \"Topic3\", \"Topic3\", \"Topic3\", \"Topic3\", \"Topic3\", \"Topic3\", \"Topic3\", \"Topic3\", \"Topic3\", \"Topic3\", \"Topic3\", \"Topic3\", \"Topic3\", \"Topic3\", \"Topic3\", \"Topic3\", \"Topic3\", \"Topic3\", \"Topic3\", \"Topic3\", \"Topic3\", \"Topic3\", \"Topic3\", \"Topic3\", \"Topic3\", \"Topic3\", \"Topic3\", \"Topic3\", \"Topic3\", \"Topic3\", \"Topic3\", \"Topic3\", \"Topic3\", \"Topic3\", \"Topic3\", \"Topic3\", \"Topic3\", \"Topic3\", \"Topic3\", \"Topic3\", \"Topic3\", \"Topic3\", \"Topic3\", \"Topic3\", \"Topic3\", \"Topic3\", \"Topic3\", \"Topic3\", \"Topic3\", \"Topic3\", \"Topic3\", \"Topic3\", \"Topic3\", \"Topic4\", \"Topic4\", \"Topic4\", \"Topic4\", \"Topic4\", \"Topic4\", \"Topic4\", \"Topic4\", \"Topic4\", \"Topic4\", \"Topic4\", \"Topic4\", \"Topic4\", \"Topic4\", \"Topic4\", \"Topic4\", \"Topic4\", \"Topic4\", \"Topic4\", \"Topic4\", \"Topic4\", \"Topic4\", \"Topic4\", \"Topic4\", \"Topic4\", \"Topic4\", \"Topic4\", \"Topic4\", \"Topic4\", \"Topic4\", \"Topic4\", \"Topic4\", \"Topic4\", \"Topic4\", \"Topic4\", \"Topic4\", \"Topic4\", \"Topic4\", \"Topic4\", \"Topic4\", \"Topic4\", \"Topic4\", \"Topic4\", \"Topic4\", \"Topic4\", \"Topic4\", \"Topic4\", \"Topic4\", \"Topic4\", \"Topic4\", \"Topic4\", \"Topic4\", \"Topic4\", \"Topic4\", \"Topic4\", \"Topic4\", \"Topic4\", \"Topic4\", \"Topic4\", \"Topic4\", \"Topic4\", \"Topic4\", \"Topic4\", \"Topic4\", \"Topic4\", \"Topic4\", \"Topic5\", \"Topic5\", \"Topic5\", \"Topic5\", \"Topic5\", \"Topic5\", \"Topic5\", \"Topic5\", \"Topic5\", \"Topic5\", \"Topic5\", \"Topic5\", \"Topic5\", \"Topic5\", \"Topic5\", \"Topic5\", \"Topic5\", \"Topic5\", \"Topic5\", \"Topic5\", \"Topic5\", \"Topic5\", \"Topic5\", \"Topic5\", \"Topic5\", \"Topic5\", \"Topic5\", \"Topic5\", \"Topic5\", \"Topic5\", \"Topic5\", \"Topic5\", \"Topic5\", \"Topic5\", \"Topic5\", \"Topic5\", \"Topic5\", \"Topic5\", \"Topic5\", \"Topic5\", \"Topic5\", \"Topic5\", \"Topic5\", \"Topic5\", \"Topic5\", \"Topic5\", \"Topic5\", \"Topic5\", \"Topic5\", \"Topic5\", \"Topic5\", \"Topic5\", \"Topic5\", \"Topic5\", \"Topic5\", \"Topic5\", \"Topic5\", \"Topic5\", \"Topic5\", \"Topic5\", \"Topic5\", \"Topic5\", \"Topic5\"], \"logprob\": [30.0, 29.0, 28.0, 27.0, 26.0, 25.0, 24.0, 23.0, 22.0, 21.0, 20.0, 19.0, 18.0, 17.0, 16.0, 15.0, 14.0, 13.0, 12.0, 11.0, 10.0, 9.0, 8.0, 7.0, 6.0, 5.0, 4.0, 3.0, 2.0, 1.0, -4.804, -4.9334, -5.8831, -5.8838, -6.1634, -4.5508, -6.5524, -6.5526, -6.5528, -5.5986, -6.5545, -6.5827, -5.7962, -5.0693, -5.3146, -6.8241, -6.8243, -6.8245, -6.8247, -6.8249, -6.825, -6.8252, -6.8252, -6.8258, -6.8258, -6.8265, -6.832, -6.0225, -6.0585, -4.5573, -3.6891, -4.4892, -2.8999, -6.1923, -3.5062, -5.9949, -5.254, -4.6635, -5.1478, -5.0286, -4.6735, -5.2069, -4.2099, -2.9552, -5.357, -5.4605, -4.8064, -3.9214, -4.6788, -3.445, -5.1132, -3.9129, -5.139, -4.3427, -4.297, -4.7058, -5.052, -4.5426, -4.5903, -4.4654, -4.9049, -4.9873, -4.882, -3.5274, -6.595, -6.8231, -6.8234, -6.8247, -6.8265, -6.8288, -3.7008, -5.0604, -6.3371, -5.0252, -7.1974, -7.1974, -7.1974, -7.1974, -7.1974, -7.1974, -7.1975, -7.1977, -7.1977, -7.1979, -7.1982, -7.1982, -7.1982, -7.1982, -7.1984, -7.1984, -7.1995, -7.2004, -7.2012, -3.4178, -5.571, -3.0596, -6.379, -6.7094, -3.0826, -5.4086, -6.1616, -3.6726, -3.5199, -5.3474, -6.4126, -5.9197, -5.0524, -4.775, -3.9214, -6.5784, -4.2726, -3.1437, -3.8237, -3.0274, -4.609, -5.0084, -4.786, -5.9123, -3.5808, -4.9968, -4.9725, -4.0976, -5.2795, -4.9222, -4.7473, -4.8811, -4.2294, -4.7694, -4.6666, -4.8513, -5.8188, -5.9946, -5.9947, -5.9957, -6.2082, -6.2086, -6.2086, -6.2093, -6.48, -6.48, -6.48, -6.4806, -6.4809, -6.4823, -6.4846, -6.485, -6.4869, -3.7622, -5.5418, -6.8545, -6.8545, -6.8545, -6.8545, -6.8545, -6.8545, -6.8546, -6.8548, -6.8551, -6.8552, -6.8554, -4.1882, -6.0091, -4.9439, -5.0549, -6.208, -4.8295, -5.9711, -6.2318, -5.2553, -4.9047, -4.8395, -5.4486, -4.6262, -5.1454, -4.6082, -3.1934, -5.6451, -5.6689, -4.3052, -5.1115, -5.316, -4.8169, -4.4303, -4.4154, -3.8695, -4.7335, -4.0342, -5.6016, -3.9691, -3.7978, -4.472, -5.1917, -5.3016, -4.6188, -5.283, -5.0114, -4.6375, -4.9945, -4.9265, -4.547, -4.9114, -5.0908, -5.1013, -5.0773, -4.3417, -4.0484, -5.5949, -5.9205, -6.1341, -6.1341, -4.4677, -6.4052, -6.4052, -6.4054, -6.4056, -6.4057, -6.4058, -6.4066, -6.4067, -6.4068, -6.4071, -6.4089, -4.167, -5.6108, -4.7561, -6.7799, -6.7799, -6.7799, -6.7799, -6.7799, -6.78, -6.7801, -6.7801, -6.7801, -4.864, -4.3759, -5.3049, -5.9864, -6.1341, -5.7899, -4.371, -4.4182, -5.5241, -3.9601, -3.6224, -4.2621, -3.8954, -5.3265, -4.2673, -3.5458, -4.6335, -5.3118, -4.6042, -3.5149, -5.7849, -5.3295, -3.7773, -4.0892, -4.0289, -4.7652, -4.3152, -4.6679, -4.8916, -4.245, -5.069, -4.8731, -5.0166, -4.9276, -5.0461, -5.0225, -4.969, -5.3624, -4.549, -5.5381, -5.7554, -6.0234, -6.0235, -6.0242, -6.0245, -6.0246, -6.0259, -6.398, -6.3985, -6.3985, -6.3987, -6.3989, -6.3989, -6.3993, -6.3994, -6.3995, -6.3999, -6.4001, -6.4005, -5.42, -6.4013, -6.4034, -5.1116, -5.7512, -5.7699, -5.182, -5.3835, -4.1085, -4.7056, -4.6459, -4.5215, -4.5122, -4.2068, -3.8045, -4.6301, -4.2654, -4.9309, -4.3616, -5.7916, -4.3282, -4.3025, -4.2001, -3.4036, -3.9206, -4.1012, -5.1666, -4.9856, -5.0064, -4.3203, -4.3541, -4.3313, -4.0248, -4.5202, -4.3037, -4.3466, -4.5795, -4.7692, -4.6998, -4.9547], \"loglift\": [30.0, 29.0, 28.0, 27.0, 26.0, 25.0, 24.0, 23.0, 22.0, 21.0, 20.0, 19.0, 18.0, 17.0, 16.0, 15.0, 14.0, 13.0, 12.0, 11.0, 10.0, 9.0, 8.0, 7.0, 6.0, 5.0, 4.0, 3.0, 2.0, 1.0, 1.3005, 1.299, 1.2433, 1.2426, 1.2144, 1.1897, 1.1621, 1.1619, 1.1617, 1.1605, 1.1599, 1.1318, 1.1297, 1.1197, 1.1188, 1.1137, 1.1135, 1.1133, 1.113, 1.1129, 1.1128, 1.1126, 1.1126, 1.112, 1.1119, 1.1113, 1.1059, 1.104, 1.068, 1.0534, 0.9722, 0.9432, 0.7587, 1.052, 0.7752, 1.0271, 0.9349, 0.8539, 0.881, 0.8618, 0.8004, 0.8591, 0.6727, 0.4039, 0.8768, 0.8681, 0.6691, 0.3997, 0.62, 0.2281, 0.7469, 0.1708, 0.7207, 0.3193, 0.1396, 0.2501, 0.5131, -0.2917, -0.2413, -0.76, 0.0657, 0.1965, -0.3173, 1.1638, 1.1217, 1.1165, 1.1163, 1.115, 1.1132, 1.1109, 1.0922, 1.0872, 1.0426, 1.042, 1.03, 1.03, 1.03, 1.03, 1.03, 1.03, 1.0299, 1.0297, 1.0297, 1.0295, 1.0292, 1.0292, 1.0292, 1.0292, 1.029, 1.029, 1.0279, 1.027, 1.0262, 0.9312, 0.9831, 0.8727, 1.0006, 1.0075, 0.7797, 0.9228, 0.9678, 0.7629, 0.7311, 0.8877, 0.9671, 0.9207, 0.8387, 0.7669, 0.634, 0.9567, 0.6714, 0.5294, 0.4974, 0.3316, 0.623, 0.6793, 0.5527, 0.8478, 0.1246, 0.544, 0.4819, -0.0139, 0.5206, 0.2933, 0.1721, 0.2115, -0.5708, -0.1074, -0.3853, -0.2866, 1.5595, 1.538, 1.5378, 1.5368, 1.5068, 1.5064, 1.5063, 1.5057, 1.4582, 1.4582, 1.4582, 1.4576, 1.4573, 1.4559, 1.4536, 1.4532, 1.4513, 1.3883, 1.3851, 1.3716, 1.3716, 1.3716, 1.3716, 1.3716, 1.3716, 1.3715, 1.3713, 1.3711, 1.3709, 1.3707, 1.3526, 1.3692, 1.2907, 1.2746, 1.3253, 1.1625, 1.2748, 1.301, 1.1784, 1.1242, 1.0841, 1.1682, 0.9854, 1.0886, 0.9554, 0.512, 1.1938, 1.1701, 0.6142, 0.9175, 0.9641, 0.7489, 0.5256, 0.492, 0.0627, 0.5311, 0.0495, 1.0851, -0.1068, -0.4388, -0.0365, 0.6994, 0.8062, 0.0432, 0.7857, 0.4626, -0.0821, 0.2383, 0.0174, -0.8884, -0.3467, 0.3042, 0.1975, -1.4042, 1.7291, 1.725, 1.6542, 1.6163, 1.5849, 1.5849, 1.5656, 1.5368, 1.5368, 1.5366, 1.5364, 1.5363, 1.5362, 1.5354, 1.5353, 1.5352, 1.5349, 1.5331, 1.5237, 1.5199, 1.4807, 1.4496, 1.4496, 1.4496, 1.4496, 1.4496, 1.4495, 1.4494, 1.4494, 1.4494, 1.4195, 1.3971, 1.3839, 1.3954, 1.4017, 1.3407, 1.1498, 1.1476, 1.2379, 0.9473, 0.8142, 0.8306, 0.6693, 1.1684, 0.6886, 0.3165, 0.7814, 1.0702, 0.7345, 0.1905, 1.2396, 0.953, -0.1187, -0.0055, -0.0967, 0.4503, -0.0339, 0.276, 0.5035, -0.572, 0.6738, 0.3106, 0.3202, 0.0429, 0.1044, -0.7014, 2.059, 2.0221, 2.0086, 2.0004, 1.9652, 1.9202, 1.92, 1.9194, 1.9191, 1.919, 1.9177, 1.8329, 1.8324, 1.8324, 1.8322, 1.832, 1.8319, 1.8316, 1.8315, 1.8314, 1.831, 1.8308, 1.8304, 1.8298, 1.8296, 1.8274, 1.8205, 1.786, 1.7677, 1.7488, 1.7479, 1.6644, 1.6789, 1.5919, 1.5487, 1.4149, 1.3359, 1.1661, 1.3661, 1.1702, 1.3516, 1.053, 1.5909, 0.9046, 0.8812, 0.7193, -0.0446, 0.3304, 0.3354, 1.216, 1.0454, 0.9878, 0.235, 0.2105, 0.1041, -0.3517, 0.1417, -0.6451, -0.6411, -0.2305, 0.1134, -0.616, 0.6104]}, \"token.table\": {\"Topic\": [2, 4, 5, 1, 2, 3, 4, 5, 3, 4, 1, 2, 3, 4, 5, 4, 1, 2, 2, 4, 5, 1, 3, 5, 3, 4, 5, 1, 1, 3, 4, 5, 4, 3, 5, 5, 1, 2, 4, 5, 3, 3, 4, 2, 4, 1, 2, 4, 5, 1, 1, 4, 5, 4, 4, 1, 3, 4, 3, 1, 5, 1, 2, 3, 4, 5, 1, 2, 4, 5, 1, 2, 4, 5, 4, 1, 2, 3, 4, 5, 1, 2, 5, 1, 2, 3, 4, 5, 3, 1, 2, 2, 3, 4, 5, 5, 2, 2, 2, 3, 4, 1, 1, 2, 3, 4, 5, 3, 4, 5, 2, 1, 2, 3, 4, 5, 1, 3, 4, 1, 2, 4, 5, 1, 2, 3, 4, 5, 2, 1, 2, 3, 4, 5, 5, 2, 2, 5, 2, 1, 3, 4, 2, 3, 4, 3, 3, 1, 2, 2, 3, 1, 2, 3, 4, 5, 1, 2, 3, 4, 5, 2, 5, 1, 3, 4, 5, 2, 3, 4, 3, 5, 1, 3, 1, 2, 3, 4, 5, 1, 2, 3, 4, 5, 3, 4, 1, 3, 1, 2, 3, 4, 5, 4, 1, 3, 4, 1, 4, 5, 1, 2, 3, 4, 1, 2, 5, 1, 2, 5, 1, 2, 3, 4, 5, 1, 2, 3, 5, 1, 2, 3, 4, 5, 1, 3, 3, 1, 4, 1, 1, 3, 4, 5, 2, 3, 5, 1, 2, 3, 4, 2, 3, 4, 5, 3, 4, 5, 1, 4, 1, 3, 4, 5, 2, 3, 3, 2, 4, 1, 3, 2, 2, 4, 3, 1, 4, 3, 1, 1, 3, 4, 5, 1, 2, 3, 4, 1, 3, 1, 2, 3, 4, 1, 2, 5, 1, 2, 4, 5, 4, 1, 5, 4, 5, 1, 2, 3, 4, 5, 1, 2, 3, 4, 5, 1, 5, 1, 2, 3, 4, 5, 2, 2, 3, 5, 1, 2, 3, 5, 2, 3, 4, 1, 2, 5, 1, 3, 5, 1, 2, 3, 4, 5, 2, 1, 2, 3, 4, 5, 2, 3, 5, 5, 1, 3, 4, 5, 2, 1, 2, 3, 4, 5, 3, 4, 5, 4, 1, 2, 3, 4, 5, 1, 2, 3, 4, 3, 4, 2, 3, 1, 3, 4, 1, 2, 3, 4, 1, 2, 3, 4, 1, 2, 3, 5, 1, 3, 4, 5, 5, 1, 2, 3, 4, 5, 1, 2, 3, 4, 5, 3, 4, 1, 2, 1, 2, 3, 4, 5, 1, 4, 5, 3, 2, 1, 1, 2, 5, 1, 5, 1, 3, 4, 5, 1, 2, 3, 4, 5, 5, 5, 3, 3, 4, 3, 3, 1, 3, 4, 5, 1, 2, 5, 1, 2, 2, 3, 4, 2, 3, 4, 3, 5, 2, 2, 5, 1, 1, 4, 5, 1, 2, 3, 4, 5, 1, 5, 1, 2, 3, 4, 2, 1, 2, 3, 4, 5, 1, 3, 1, 2, 3, 4, 5, 2, 3, 3, 2, 5, 2, 3, 2, 4, 3, 2, 3, 3, 1, 2, 3, 4, 1, 2, 5, 2, 4, 1, 4, 2, 3, 4, 1, 2, 3, 4, 5, 1, 5, 2, 3, 2, 3, 4, 5, 2, 1, 4, 1, 2, 3, 4, 5, 2, 2, 4, 1, 3, 4, 5, 4, 1, 2, 3, 5, 3, 5, 2, 3, 5, 1, 2, 1, 1, 3, 4, 1, 2, 3, 4, 2, 3, 4, 5, 2, 4, 1, 2, 3, 4, 5, 1, 4, 4, 5, 5, 3, 5, 4, 1, 3, 4, 5, 1, 2, 3, 4, 5, 1, 1, 5, 2, 1, 2, 4, 1, 2, 3, 5, 1, 3, 4, 5, 1, 2, 3, 5, 1, 4, 1, 2, 3, 5], \"Freq\": [0.6744462594433395, 0.20233387783300186, 0.06744462594433395, 0.30027380469399073, 0.09738609881967268, 0.04869304940983634, 0.3895443952786907, 0.16231016469945447, 0.7179434095253817, 0.8105998365926513, 0.3904161499062583, 0.4337957221180648, 0.07229928701967746, 0.08675914442361295, 0.021689786105903237, 0.7203898275969484, 0.6458539078333736, 0.3229269539166868, 0.6477406339834068, 0.1079567723305678, 0.2159135446611356, 0.343386642191016, 0.1962209383948663, 0.44149711138844916, 0.2882196885719779, 0.2161647664289834, 0.46835699392946406, 0.8071697679771408, 0.34102707859981257, 0.31374491231182755, 0.34102707859981257, 0.7213786360349675, 0.720389808704156, 0.8075008370404587, 0.7213798488858489, 0.8665508708867848, 0.8071713687580875, 0.8086912441315519, 0.8105985549655847, 0.7213796698971913, 0.7179433988860012, 0.4542296324916965, 0.5110083365531586, 0.71888201204843, 0.8105990010904791, 0.5045712555209162, 0.1605453994839279, 0.22935057069132556, 0.09174022827653022, 0.8608422172924173, 0.8278643604341493, 0.08278643604341493, 0.9282763151995883, 0.864738679017407, 0.7203900790546904, 0.29895350378330776, 0.5979070075666155, 0.05979070075666155, 0.8075027797284916, 0.2948527700936259, 0.6879897968851272, 0.23115846629253944, 0.11557923314626972, 0.26968487734129604, 0.03852641104875657, 0.3082112883900526, 0.32958224187584984, 0.2696581978984226, 0.32958224187584984, 0.05992404397742724, 0.11376630158899063, 0.02844157539724766, 0.7963641111229345, 0.05688315079449532, 0.8105961488548059, 0.12691528178061984, 0.44420348623216943, 0.12691528178061984, 0.09518646133546488, 0.19037292267092976, 0.16225972733418778, 0.7765286950993273, 0.046359922095482224, 0.24700637282321872, 0.4266473712401051, 0.13473074881266475, 0.11227562401055396, 0.06736537440633238, 0.8075125756129042, 0.33145479571322334, 0.5800458924981409, 0.4600278760096994, 0.020001212000421716, 0.36002181600759087, 0.16000969600337372, 0.721379735877167, 0.718885060660257, 0.7188821626105464, 0.07344653065644682, 0.709983129678986, 0.1958574150838582, 0.8071700368939965, 0.16180843087268285, 0.4854252926180485, 0.05393614362422761, 0.16180843087268285, 0.12585100178986444, 0.4016189031368477, 0.5522259918131657, 0.050202362892105966, 0.8627318080525798, 0.1591509305183331, 0.35366873448518465, 0.14146749379407386, 0.2652515508638885, 0.08841718362129616, 0.9221573177962945, 0.8075062290443216, 0.8105976621251982, 0.12712406760622544, 0.12712406760622544, 0.5720583042280145, 0.19068610140933817, 0.009801809711252848, 0.6273158215201823, 0.19603619422505697, 0.15682895538004557, 0.009801809711252848, 0.7188830543961993, 0.14075285930196307, 0.3284233383712472, 0.07819603294553505, 0.3909801647276752, 0.04691761976732103, 0.8661511679690526, 0.718882822275898, 0.719444178114752, 0.179861044528688, 0.8086938709579296, 0.08302165606054708, 0.24906496818164126, 0.5811515924238296, 0.36791150005008905, 0.49930846435369225, 0.13139696430360323, 0.8075028012964857, 0.8075030305028059, 0.1539806543326042, 0.6159226173304168, 0.17946838806270451, 0.7178735522508181, 0.5387987277514885, 0.03367492048446803, 0.13469968193787213, 0.13469968193787213, 0.16837460242234015, 0.39228139006519136, 0.3646559400606004, 0.11878943501974104, 0.008287635001377282, 0.11326434501882286, 0.3415477231748941, 0.6261708258206393, 0.3087970767382746, 0.030879707673827462, 0.030879707673827462, 0.6175941534765492, 0.04910515511115092, 0.14731546533345277, 0.7365773266672638, 0.13522056108165945, 0.6761028054082973, 0.8608404673267213, 0.717943399249683, 0.3427704149049447, 0.4407048191635003, 0.12241800532319452, 0.04896720212927781, 0.04896720212927781, 0.3452978660698166, 0.12948669977618124, 0.1079055831468177, 0.08632446651745415, 0.3452978660698166, 0.7179434597664424, 0.9008421152812923, 0.35866471828438096, 0.6276632569976667, 0.15440668322882287, 0.11580501242161716, 0.07720334161441143, 0.2316100248432343, 0.4632200496864686, 0.8105938623870064, 0.6218234050279001, 0.26307913289641927, 0.11958142404382693, 0.7957750853392451, 0.04681029913760265, 0.0936205982752053, 0.6209122665738953, 0.20697075552463176, 0.12418245331477905, 0.04139415110492635, 0.6810331251097177, 0.26362572584892296, 0.0439376209748205, 0.7613368191521199, 0.18377095634706345, 0.05250598752773241, 0.1210922786868572, 0.2968713929097144, 0.3124962030628573, 0.20702873452914294, 0.062499240612571456, 0.16576915239865253, 0.7459611857939363, 0.08288457619932627, 0.8118519019872543, 0.3290283273282058, 0.4462683060313596, 0.045383217562511145, 0.09833030471877414, 0.08320256553127042, 0.3586615564649378, 0.6276577238136412, 0.7179432809425172, 0.8071762852889043, 0.8105989977132585, 0.8071739704633685, 0.19586232975773574, 0.5386214068337734, 0.14689674731830182, 0.09793116487886787, 0.13470013739761896, 0.6735006869880948, 0.13470013739761896, 0.2414718914340479, 0.2786214131931322, 0.3157709349522165, 0.16717284791587933, 0.6372901385331532, 0.14706695504611228, 0.14706695504611228, 0.04902231834870409, 0.1543968724244491, 0.7102256131524659, 0.1235174979395593, 0.03089412271647875, 0.9577178042108413, 0.15375270627646087, 0.7687635313823044, 0.7203900779141313, 0.8118530839664828, 0.7188789091824875, 0.7179443799332575, 0.8075165149742364, 0.7188828213150044, 0.7203900749906635, 0.8069056129018748, 0.1344842688169791, 0.8086909379092928, 0.7192570682060421, 0.2397523560686807, 0.8612203498634556, 0.17999848502048144, 0.7199939400819257, 0.8075012562598654, 0.8071787241436912, 0.2768396256959222, 0.1661037754175533, 0.1799457567023494, 0.37373349468949496, 0.25046137599562446, 0.07513841279868734, 0.4758766143916865, 0.17532296319693713, 0.8367389110211826, 0.11953413014588322, 0.14360845632747452, 0.07180422816373726, 0.5744338253098981, 0.2154126844912118, 0.5390364069050478, 0.16844887715782744, 0.2695182034525239, 0.6380867832921485, 0.2392825437345557, 0.07976084791151856, 0.03988042395575928, 0.8647404908973777, 0.8608507510102382, 0.7213767544005342, 0.19684109738368188, 0.6889438408428866, 0.5628446648073463, 0.14909792445227715, 0.0782764103374455, 0.15282537256358408, 0.05963916978091086, 0.12594700856800614, 0.1439394383634356, 0.2339015873405828, 0.19791672774972394, 0.2878788767268712, 0.8071995667289439, 0.7213718530463357, 0.2595487937783765, 0.2395835019492706, 0.19965291829105883, 0.2395835019492706, 0.07986116731642354, 0.8086947557071484, 0.3988457101069834, 0.5583839941497768, 0.721383487609556, 0.48050515338820604, 0.2690828858973954, 0.23064247362633888, 0.01922020613552824, 0.23149370011988396, 0.07716456670662798, 0.6944811003596518, 0.6364650748037083, 0.19583540763191024, 0.14687655572393268, 0.35976762949081853, 0.1541861269246365, 0.4625583807739096, 0.31362443362315245, 0.25660180932803384, 0.19387692260340333, 0.17106787288535588, 0.06272488672463049, 0.7188863267655852, 0.19370352796365484, 0.19370352796365484, 0.12913568530910324, 0.33206319079483687, 0.14758364035326083, 0.09791225943797889, 0.7832980755038311, 0.09791225943797889, 0.9023963036485821, 0.0830094099030573, 0.41504704951528654, 0.37354234456375784, 0.1660188198061146, 0.7188825220275273, 0.19984931806376582, 0.1199095908382595, 0.239819181676519, 0.1199095908382595, 0.31975890890202535, 0.7179441449742814, 0.7203898265341365, 0.7213759733992461, 0.956570657443708, 0.1370773405373758, 0.49347842593455293, 0.17363129801400937, 0.054830936214950325, 0.1462158299065342, 0.22683901830413639, 0.5103877911843069, 0.17012926372810228, 0.11341950915206819, 0.718226796992882, 0.1795566992482205, 0.7188778006944693, 0.922590835830246, 0.595366802581939, 0.2976834012909695, 0.11449361588114211, 0.06739021060816613, 0.5121656006220626, 0.18869258970286518, 0.22912671606776486, 0.19945815185397958, 0.19945815185397958, 0.478699564449551, 0.15956652148318368, 0.2690958902884818, 0.07688454008242337, 0.5766340506181753, 0.03844227004121169, 0.12470139294466069, 0.20783565490776781, 0.12470139294466069, 0.5403727027601963, 0.7213656760761511, 0.18193704203565716, 0.03898650900764082, 0.29889656905857964, 0.44184710208659594, 0.03898650900764082, 0.3660008095823837, 0.2338338505665229, 0.19316709394625806, 0.07116682408546349, 0.13216695901586076, 0.1543017142301026, 0.6172068569204104, 0.7770745233147044, 0.179324889995701, 0.6908481251519263, 0.0914357812701079, 0.02031906250446842, 0.11175484377457631, 0.07111671876563948, 0.19660175491015094, 0.19660175491015094, 0.5898052647304528, 0.8970212999465169, 0.7188828227076068, 0.8071732715632032, 0.6251232012751063, 0.31256160063755317, 0.034729066737505906, 0.860841786235253, 0.7213783827111503, 0.0538730323670341, 0.6464763884044092, 0.1616190971011023, 0.0538730323670341, 0.10580305382014372, 0.19044549687625872, 0.25392732916834493, 0.2750879399323737, 0.16928488611222997, 0.7213821452547601, 0.7213825664918836, 0.8970225093858303, 0.7179434085307564, 0.7203897675032077, 0.7179434018389805, 0.8612234162721932, 0.1199808680918306, 0.19196938894692897, 0.5519119932224208, 0.1199808680918306, 0.8071735797018645, 0.8086980876439902, 0.7213817097990142, 0.9562137267732576, 0.718882823488515, 0.07700083738289887, 0.5390058616802921, 0.30800334953159547, 0.7635519829552705, 0.13474446758034184, 0.04491482252678062, 0.7179433992896617, 0.8118568020069953, 0.7188826920953839, 0.18031056437061543, 0.7212422574824617, 0.9464345428010797, 0.866949042386907, 0.08968438369519727, 0.029894794565065757, 0.17630362062189595, 0.2644554309328439, 0.06611385773321098, 0.11018976288868497, 0.3746451938215289, 0.18024721625100446, 0.7209888650040178, 0.016570683899896733, 0.0497120516996902, 0.745680775495353, 0.1988482067987608, 0.7188828279851124, 0.5197317814080011, 0.19014577368585409, 0.08873469438673191, 0.07605830947434164, 0.12676384912390273, 0.9777327964091705, 0.8075021291167931, 0.07352364747780857, 0.5636812973298657, 0.17155517744822, 0.09803152997041142, 0.09803152997041142, 0.769903032445446, 0.1539806064890892, 0.8970217272360708, 0.718882824501453, 0.8118562881749289, 0.43077065322491315, 0.5384633165311414, 0.7188829142035931, 0.8105927663340996, 0.7179437383512338, 0.6285638933412315, 0.2693845257176707, 0.8612186828033345, 0.6552708296075499, 0.1404151777730464, 0.046805059257682136, 0.09361011851536427, 0.08374492016270856, 0.8374492016270856, 0.07327680514236999, 0.6471773769202456, 0.21572579230674852, 0.8071696248340263, 0.8105977137365753, 0.5907754063908957, 0.382266439429403, 0.7203900734910081, 0.4515058143004786, 0.15050193810015952, 0.02508365635002659, 0.17558559445018612, 0.2257529071502393, 0.8071702236163595, 0.8118498347798093, 0.7698565115460837, 0.15397130230921674, 0.17263954493410053, 0.4315988623352513, 0.21579943116762565, 0.21579943116762565, 0.7188839813213185, 0.7537838516287999, 0.2153668147510857, 0.2806353522816769, 0.06476200437269468, 0.0863493391635929, 0.3669846914452698, 0.1726986783271858, 0.7188820081849001, 0.2400652006253026, 0.6001630015632565, 0.32548326967187396, 0.15417628563404556, 0.2398297776529598, 0.2912218728643083, 0.9459779771253473, 0.20815475279327414, 0.6616347499500499, 0.037170491570227525, 0.09664327808259156, 0.8612190185704446, 0.8118531777655114, 0.1544196787093409, 0.1544196787093409, 0.6176787148373636, 0.7825298207559015, 0.09781622759448769, 0.9562103222889968, 0.7172161833315724, 0.11953603055526206, 0.8105861205928339, 0.02284813412434363, 0.5712033531085908, 0.1690761925201429, 0.23762059489317378, 0.1028011026929098, 0.35980385942518434, 0.46260496211809415, 0.1028011026929098, 0.25725369689942834, 0.7203103513183994, 0.5697579610643198, 0.1806549632642965, 0.07643094599643313, 0.16675842762858137, 0.013896535635715116, 0.8071711997836176, 0.8105969566159662, 0.8412504536113911, 0.16023818164026496, 0.721380905892913, 0.067674088961206, 0.8797631564956779, 0.7203900777634966, 0.04899388158493565, 0.6859143421890991, 0.0979877631698713, 0.1959755263397426, 0.19546847773042775, 0.5459636791780913, 0.06066263101978792, 0.04044175401319195, 0.1617670160527678, 0.8608525806538714, 0.240258087359839, 0.720774262079517, 0.7188825185171142, 0.21589770523281665, 0.10794885261640833, 0.64769311569845, 0.10521050674291721, 0.3156315202287516, 0.34193414691448093, 0.23672364017156372, 0.17043242589770155, 0.3408648517954031, 0.11362161726513437, 0.3976756604279703, 0.12158751153619972, 0.5593025530665188, 0.17832835025309293, 0.12969334563861304, 0.12004384893194646, 0.8403069425236251, 0.30768215732536613, 0.10256071910845536, 0.5128035955422768, 0.10256071910845536], \"Term\": [\"ability\", \"ability\", \"ability\", \"able\", \"able\", \"able\", \"able\", \"able\", \"advertised\", \"age\", \"app\", \"app\", \"app\", \"app\", \"app\", \"assistance\", \"assisted\", \"assisted\", \"aunt\", \"aunt\", \"aunt\", \"away\", \"away\", \"away\", \"awesome\", \"awesome\", \"awesome\", \"awsome\", \"best\", \"best\", \"best\", \"bingo\", \"birth\", \"bridge\", \"bring\", \"brought\", \"busy\", \"capability\", \"card\", \"caretaker\", \"caught\", \"cell\", \"cell\", \"change\", \"charge\", \"chat\", \"chat\", \"chat\", \"chat\", \"chatting\", \"child\", \"child\", \"citizen\", \"clearly\", \"click\", \"close\", \"close\", \"close\", \"closed\", \"closer\", \"closer\", \"comment\", \"comment\", \"comment\", \"comment\", \"comment\", \"communicate\", \"communicate\", \"communicate\", \"communicate\", \"computer\", \"computer\", \"computer\", \"computer\", \"confusing\", \"connect\", \"connect\", \"connect\", \"connect\", \"connect\", \"connected\", \"connected\", \"connected\", \"contact\", \"contact\", \"contact\", \"contact\", \"contact\", \"cost\", \"country\", \"country\", \"covid\", \"covid\", \"covid\", \"covid\", \"creator\", \"crisis\", \"curve\", \"customer\", \"customer\", \"customer\", \"cute\", \"dad\", \"dad\", \"dad\", \"dad\", \"dad\", \"day\", \"day\", \"day\", \"designed\", \"device\", \"device\", \"device\", \"device\", \"device\", \"different\", \"direct\", \"discovered\", \"easier\", \"easier\", \"easier\", \"easier\", \"easy\", \"easy\", \"easy\", \"easy\", \"easy\", \"edit\", \"elderly\", \"elderly\", \"elderly\", \"elderly\", \"elderly\", \"electronic\", \"enables\", \"enjoyed\", \"enjoyed\", \"everybody\", \"everyday\", \"everyday\", \"everyday\", \"excellent\", \"excellent\", \"excellent\", \"experienced\", \"explore\", \"extremely\", \"extremely\", \"fabulous\", \"fabulous\", \"face\", \"face\", \"face\", \"face\", \"face\", \"family\", \"family\", \"family\", \"family\", \"family\", \"fantastic\", \"fantastic\", \"far\", \"far\", \"far\", \"far\", \"father\", \"father\", \"father\", \"favorite\", \"favorite\", \"finally\", \"followup\", \"friend\", \"friend\", \"friend\", \"friend\", \"friend\", \"game\", \"game\", \"game\", \"game\", \"game\", \"gap\", \"gave\", \"given\", \"given\", \"good\", \"good\", \"good\", \"good\", \"good\", \"gotten\", \"grand\", \"grand\", \"grand\", \"grandchild\", \"grandchild\", \"grandchild\", \"grandkids\", \"grandkids\", \"grandkids\", \"grandkids\", \"grandma\", \"grandma\", \"grandma\", \"grandmother\", \"grandmother\", \"grandmother\", \"grandpad\", \"grandpad\", \"grandpad\", \"grandpad\", \"grandpad\", \"grandparent\", \"grandparent\", \"grandparent\", \"grandson\", \"great\", \"great\", \"great\", \"great\", \"great\", \"group\", \"group\", \"grow\", \"growing\", \"hang\", \"happening\", \"happy\", \"happy\", \"happy\", \"happy\", \"hearing\", \"hearing\", \"hearing\", \"help\", \"help\", \"help\", \"help\", \"helpful\", \"helpful\", \"helpful\", \"helpful\", \"highly\", \"highly\", \"highly\", \"home\", \"home\", \"huge\", \"huge\", \"icon\", \"ideal\", \"impaired\", \"inclined\", \"including\", \"independently\", \"individual\", \"information\", \"information\", \"informed\", \"interface\", \"interface\", \"ipad\", \"large\", \"large\", \"latest\", \"learn\", \"life\", \"life\", \"life\", \"life\", \"like\", \"like\", \"like\", \"like\", \"list\", \"list\", \"little\", \"little\", \"little\", \"little\", \"live\", \"live\", \"live\", \"living\", \"living\", \"living\", \"living\", \"locked\", \"lonely\", \"longer\", \"look\", \"look\", \"love\", \"love\", \"love\", \"love\", \"love\", \"loved\", \"loved\", \"loved\", \"loved\", \"loved\", \"luv\", \"maintain\", \"make\", \"make\", \"make\", \"make\", \"make\", \"manage\", \"medium\", \"medium\", \"meet\", \"member\", \"member\", \"member\", \"member\", \"memory\", \"memory\", \"memory\", \"message\", \"message\", \"message\", \"mile\", \"mile\", \"mile\", \"mom\", \"mom\", \"mom\", \"mom\", \"mom\", \"momma\", \"mother\", \"mother\", \"mother\", \"mother\", \"mother\", \"navigate\", \"navigate\", \"navigate\", \"near\", \"need\", \"need\", \"need\", \"need\", \"needing\", \"new\", \"new\", \"new\", \"new\", \"new\", \"newer\", \"night\", \"note\", \"nursing\", \"old\", \"old\", \"old\", \"old\", \"old\", \"older\", \"older\", \"older\", \"older\", \"operate\", \"operate\", \"order\", \"outstanding\", \"pad\", \"pad\", \"pad\", \"parent\", \"parent\", \"parent\", \"parent\", \"people\", \"people\", \"people\", \"people\", \"perfect\", \"perfect\", \"perfect\", \"perfect\", \"person\", \"person\", \"person\", \"person\", \"phenomenal\", \"phone\", \"phone\", \"phone\", \"phone\", \"phone\", \"photo\", \"photo\", \"photo\", \"photo\", \"photo\", \"physically\", \"physically\", \"pic\", \"pic\", \"picture\", \"picture\", \"picture\", \"picture\", \"picture\", \"play\", \"play\", \"play\", \"pleased\", \"point\", \"pop\", \"post\", \"post\", \"post\", \"posted\", \"pretty\", \"problem\", \"problem\", \"problem\", \"problem\", \"product\", \"product\", \"product\", \"product\", \"product\", \"programmed\", \"provided\", \"provides\", \"public\", \"purchase\", \"putting\", \"quickly\", \"recommend\", \"recommend\", \"recommend\", \"recommend\", \"regularly\", \"remotely\", \"respond\", \"rest\", \"restriction\", \"right\", \"right\", \"right\", \"safe\", \"safe\", \"safe\", \"satisfied\", \"saver\", \"scammed\", \"scammer\", \"scammer\", \"seeing\", \"send\", \"send\", \"send\", \"senior\", \"senior\", \"senior\", \"senior\", \"senior\", \"sent\", \"sent\", \"service\", \"service\", \"service\", \"service\", \"setup\", \"share\", \"share\", \"share\", \"share\", \"share\", \"sharing\", \"short\", \"simple\", \"simple\", \"simple\", \"simple\", \"simple\", \"simplicity\", \"simplicity\", \"site\", \"slide\", \"slideshow\", \"social\", \"social\", \"socially\", \"son\", \"speak\", \"staff\", \"staff\", \"started\", \"state\", \"state\", \"state\", \"state\", \"stay\", \"stay\", \"stay\", \"straight\", \"straight\", \"stranger\", \"stroke\", \"support\", \"support\", \"tab\", \"talk\", \"talk\", \"talk\", \"talk\", \"talk\", \"tap\", \"taught\", \"team\", \"team\", \"tech\", \"tech\", \"tech\", \"tech\", \"telephone\", \"text\", \"text\", \"thank\", \"thank\", \"thank\", \"thank\", \"thank\", \"theyve\", \"thought\", \"thought\", \"time\", \"time\", \"time\", \"time\", \"today\", \"touch\", \"touch\", \"touch\", \"touch\", \"trying\", \"typing\", \"uncle\", \"uncle\", \"uncle\", \"update\", \"update\", \"updated\", \"upload\", \"upload\", \"ur\", \"use\", \"use\", \"use\", \"use\", \"used\", \"used\", \"used\", \"used\", \"user\", \"user\", \"video\", \"video\", \"video\", \"video\", \"video\", \"view\", \"virus\", \"visit\", \"visit\", \"visually\", \"voice\", \"voice\", \"wait\", \"want\", \"want\", \"want\", \"want\", \"way\", \"way\", \"way\", \"way\", \"way\", \"went\", \"whats\", \"whats\", \"wifi\", \"wish\", \"wish\", \"wish\", \"wonderful\", \"wonderful\", \"wonderful\", \"wonderful\", \"world\", \"world\", \"world\", \"world\", \"year\", \"year\", \"year\", \"year\", \"yearold\", \"yearold\", \"yr\", \"yr\", \"yr\", \"yr\"]}, \"R\": 30, \"lambda.step\": 0.01, \"plot.opts\": {\"xlab\": \"PC1\", \"ylab\": \"PC2\"}, \"topic.order\": [4, 5, 1, 3, 2]};\n",
       "\n",
       "function LDAvis_load_lib(url, callback){\n",
       "  var s = document.createElement('script');\n",
       "  s.src = url;\n",
       "  s.async = true;\n",
       "  s.onreadystatechange = s.onload = callback;\n",
       "  s.onerror = function(){console.warn(\"failed to load library \" + url);};\n",
       "  document.getElementsByTagName(\"head\")[0].appendChild(s);\n",
       "}\n",
       "\n",
       "if(typeof(LDAvis) !== \"undefined\"){\n",
       "   // already loaded: just create the visualization\n",
       "   !function(LDAvis){\n",
       "       new LDAvis(\"#\" + \"ldavis_el5897001303293050267849303043952\", ldavis_el5897001303293050267849303043952_data);\n",
       "   }(LDAvis);\n",
       "}else if(typeof define === \"function\" && define.amd){\n",
       "   // require.js is available: use it to load d3/LDAvis\n",
       "   require.config({paths: {d3: \"https://d3js.org/d3.v5\"}});\n",
       "   require([\"d3\"], function(d3){\n",
       "      window.d3 = d3;\n",
       "      LDAvis_load_lib(\"https://cdn.jsdelivr.net/gh/bmabey/pyLDAvis@3.4.0/pyLDAvis/js/ldavis.v3.0.0.js\", function(){\n",
       "        new LDAvis(\"#\" + \"ldavis_el5897001303293050267849303043952\", ldavis_el5897001303293050267849303043952_data);\n",
       "      });\n",
       "    });\n",
       "}else{\n",
       "    // require.js not available: dynamically load d3 & LDAvis\n",
       "    LDAvis_load_lib(\"https://d3js.org/d3.v5.js\", function(){\n",
       "         LDAvis_load_lib(\"https://cdn.jsdelivr.net/gh/bmabey/pyLDAvis@3.4.0/pyLDAvis/js/ldavis.v3.0.0.js\", function(){\n",
       "                 new LDAvis(\"#\" + \"ldavis_el5897001303293050267849303043952\", ldavis_el5897001303293050267849303043952_data);\n",
       "            })\n",
       "         });\n",
       "}\n",
       "</script>"
      ],
      "text/plain": [
       "<IPython.core.display.HTML object>"
      ]
     },
     "execution_count": 18,
     "metadata": {},
     "output_type": "execute_result"
    }
   ],
   "source": [
    "# Visualizing the LDA model for positive reviews\n",
    "pyLDAvis.enable_notebook()\n",
    "panel = pyLDAvis.lda_model.prepare(lda_model_positive, X_positive, vectorizer_positive)\n",
    "pyLDAvis.display(panel)"
   ]
  },
  {
   "cell_type": "markdown",
   "metadata": {},
   "source": [
    "## LDA Model for Mixed Reviews\n",
    "\n",
    "Creating and analyzing an LDA model for mixed reviews."
   ]
  },
  {
   "cell_type": "code",
   "execution_count": 19,
   "metadata": {},
   "outputs": [],
   "source": [
    "# Clean the content in the dataframe for mixed reviews\n",
    "df_mixed['cleaned_content'] = df_mixed['content'].apply(preprocess_text)"
   ]
  },
  {
   "cell_type": "code",
   "execution_count": 20,
   "metadata": {},
   "outputs": [
    {
     "name": "stdout",
     "output_type": "stream",
     "text": [
      "Topic #1: video phone app work use time easy love need great\n",
      "Topic #2: app able pad contact picture sister family mom like add\n",
      "Topic #3: family great love mom easy grandpad app use user picture\n",
      "Topic #4: video phone app great family photo elderly internet issue device\n",
      "Topic #5: family photo comment touch great app picture delete like posted\n"
     ]
    }
   ],
   "source": [
    "# Make LDA model for mixed reviews\n",
    "lda_model_mixed, vectorizer_mixed, X_mixed = make_lda_model(df_mixed)"
   ]
  },
  {
   "cell_type": "code",
   "execution_count": 21,
   "metadata": {},
   "outputs": [
    {
     "data": {
      "text/html": [
       "\n",
       "<link rel=\"stylesheet\" type=\"text/css\" href=\"https://cdn.jsdelivr.net/gh/bmabey/pyLDAvis@3.4.0/pyLDAvis/js/ldavis.v1.0.0.css\">\n",
       "\n",
       "\n",
       "<div id=\"ldavis_el5897001303293050372002577672137\" style=\"background-color:white;\"></div>\n",
       "<script type=\"text/javascript\">\n",
       "\n",
       "var ldavis_el5897001303293050372002577672137_data = {\"mdsDat\": {\"x\": [-0.05673739657075276, -0.110791702374925, -0.011378421802831242, 0.11075020622349971, 0.06815731452500932], \"y\": [-0.1007668310454172, 0.01948855964226151, 0.06943491211368419, -0.08393956499038167, 0.09578292427985319], \"topics\": [1, 2, 3, 4, 5], \"cluster\": [1, 1, 1, 1, 1], \"Freq\": [26.36211731800219, 23.036628231363228, 20.09236891835974, 17.81417846711127, 12.694707065163582]}, \"tinfo\": {\"Term\": [\"family\", \"video\", \"great\", \"photo\", \"comment\", \"phone\", \"easy\", \"sister\", \"touch\", \"posted\", \"delete\", \"year\", \"like\", \"love\", \"picture\", \"pad\", \"member\", \"user\", \"need\", \"facebook\", \"watch\", \"internet\", \"keeping\", \"grand\", \"old\", \"mom\", \"elderly\", \"contact\", \"make\", \"post\", \"camera\", \"galaxy\", \"month\", \"allows\", \"fixed\", \"hard\", \"soon\", \"wish\", \"website\", \"receiving\", \"catch\", \"cause\", \"audio\", \"volume\", \"send\", \"im\", \"doesnt\", \"try\", \"working\", \"isnt\", \"admin\", \"using\", \"work\", \"wouldnt\", \"apps\", \"real\", \"sending\", \"different\", \"thats\", \"havent\", \"phone\", \"grandma\", \"tablet\", \"need\", \"easy\", \"time\", \"video\", \"use\", \"app\", \"love\", \"issue\", \"people\", \"pad\", \"grandpad\", \"great\", \"elderly\", \"able\", \"mom\", \"way\", \"grand\", \"sister\", \"year\", \"old\", \"list\", \"end\", \"right\", \"look\", \"multiple\", \"constantly\", \"pandemic\", \"friend\", \"download\", \"thank\", \"button\", \"grand\", \"contact\", \"add\", \"technology\", \"support\", \"tech\", \"used\", \"living\", \"recording\", \"cell\", \"tried\", \"grandmother\", \"minute\", \"know\", \"pad\", \"senior\", \"able\", \"dont\", \"like\", \"picture\", \"mother\", \"app\", \"time\", \"mom\", \"need\", \"good\", \"way\", \"family\", \"work\", \"share\", \"grandpad\", \"use\", \"phone\", \"difficult\", \"user\", \"connecting\", \"citizen\", \"enjoys\", \"question\", \"posting\", \"online\", \"loved\", \"worked\", \"social\", \"set\", \"member\", \"say\", \"change\", \"trying\", \"group\", \"tv\", \"medium\", \"great\", \"access\", \"talk\", \"easy\", \"yo\", \"make\", \"added\", \"pop\", \"understand\", \"laptop\", \"older\", \"family\", \"love\", \"people\", \"mom\", \"device\", \"share\", \"grandpad\", \"way\", \"use\", \"picture\", \"thing\", \"app\", \"photo\", \"mother\", \"like\", \"video\", \"able\", \"internet\", \"live\", \"voice\", \"sound\", \"provides\", \"easily\", \"longer\", \"message\", \"smart\", \"better\", \"consider\", \"problem\", \"overall\", \"hear\", \"grandparent\", \"pretty\", \"available\", \"amazing\", \"sharing\", \"version\", \"state\", \"bit\", \"think\", \"getting\", \"notification\", \"game\", \"elderly\", \"experience\", \"connected\", \"screen\", \"video\", \"phone\", \"make\", \"issue\", \"really\", \"photo\", \"device\", \"great\", \"app\", \"family\", \"good\", \"like\", \"use\", \"far\", \"contact\", \"posted\", \"facebook\", \"watch\", \"comment\", \"country\", \"overseas\", \"addition\", \"edit\", \"keeping\", \"awesome\", \"delete\", \"post\", \"wonderful\", \"fine\", \"touch\", \"puzzle\", \"saying\", \"wrong\", \"day\", \"enjoy\", \"daily\", \"sent\", \"come\", \"allow\", \"grandchild\", \"photo\", \"capability\", \"hope\", \"limited\", \"moment\", \"simple\", \"family\", \"parent\", \"like\", \"picture\", \"great\", \"member\", \"app\", \"good\", \"way\", \"video\", \"need\", \"grandpad\", \"use\", \"able\", \"love\"], \"Freq\": [32.0, 32.0, 26.0, 14.0, 6.0, 23.0, 15.0, 6.0, 9.0, 4.0, 6.0, 5.0, 14.0, 19.0, 16.0, 12.0, 7.0, 5.0, 12.0, 3.0, 3.0, 4.0, 4.0, 8.0, 5.0, 18.0, 7.0, 11.0, 7.0, 4.0, 3.5992300975504006, 2.7394810523148005, 1.8853093831749421, 1.885307784893642, 1.8853030123171066, 1.885301839976326, 1.8853007739381369, 1.8853000516486957, 1.8852803864820125, 1.8831539687876075, 1.882338902248427, 1.8823340635629389, 3.6018129432544224, 4.083174614169219, 4.4599935022037, 4.466095939323707, 4.45888640416272, 2.743719156553481, 2.7427891701914544, 2.7426814821282295, 2.7421544253822203, 3.5987768817049615, 11.208652491028504, 1.8851754020639486, 1.886889565004289, 1.8853323316757482, 1.8853335031798606, 1.8846168725847043, 1.8844116476484818, 1.887013609758297, 13.031889351465756, 2.7430708496777068, 2.7419348863554163, 6.170044448194373, 7.025034619265216, 7.038055364161605, 13.20812193956618, 9.60098465511448, 12.576762729205551, 7.024199443967801, 4.4596830944419805, 3.5981010741957173, 4.458420769733577, 5.121063284193409, 5.215444155325554, 2.7414328516551287, 3.594944708093999, 3.5936272050680436, 3.242331062573651, 2.7419777174018494, 6.074785160061158, 5.231059325170347, 4.3861613207685455, 2.699369496968666, 1.8561803039905196, 1.856179969033837, 1.856176410286929, 1.854867888852699, 1.8484758936229588, 3.5441008342300857, 2.6963300842097353, 2.701948537776803, 2.7028739282378336, 2.7018670561380302, 5.227320465398993, 6.8671115242040495, 5.23408213647934, 1.8530849038869823, 1.856276222423209, 1.8553782094434745, 1.8513337371732557, 1.8561977848277507, 1.860943053791624, 1.8577138919456537, 1.857082230382654, 1.8566751904529262, 1.8566152494159436, 1.8562191376395603, 6.894427408617616, 4.389850498272851, 9.363303723271088, 4.392311652320578, 5.666989490655747, 6.077956105071861, 3.5378953339815826, 9.531001654535237, 5.180757480876759, 5.872600633734231, 4.383695058864056, 3.5433506614987147, 4.308105881534254, 6.039377600189252, 4.501477060967658, 2.696946588574549, 3.543173507364036, 3.537585549308452, 2.898613064647956, 2.69521805505481, 4.391462935306315, 1.8568150768974765, 1.8568115243175378, 1.8568064057807088, 1.856797151443354, 1.8552449077621762, 1.852236519981994, 2.7018572171176696, 2.096109158418364, 3.5491567034903735, 3.5497273173812176, 4.202008015493346, 1.8571705484384942, 1.8575562155651757, 1.8574457833091271, 1.8589036165755979, 1.857057850866373, 2.700987917176286, 12.858325735686545, 2.707637219436778, 2.702960341074444, 6.923766673949355, 1.510169235295656, 3.3479786227954427, 1.858454674999535, 1.1078256751528068, 1.8583534317816055, 1.8574641681934625, 1.8551959144179382, 14.074022079402772, 7.76447590445404, 3.543543320996025, 7.194995446164622, 3.2492508097322386, 2.701281150993702, 5.473859655690545, 4.302443779805814, 5.234907742097641, 4.385471723894121, 2.7033143860215074, 5.402977896092619, 3.5382977705403684, 2.7048790426937277, 3.1086585531765447, 3.1476847530737366, 2.5320391021914097, 3.484324813978289, 2.656974582299411, 2.6564106738458237, 2.6541603893826444, 1.8266695071911712, 1.8266616539298752, 1.8264305117514492, 1.8264258127205009, 1.824557982401426, 1.8219883420681093, 1.820956542304562, 2.6552840592879363, 2.660017506899919, 2.6587310939079205, 1.8266057230641422, 1.826259749938763, 1.8292103357018064, 1.827713556204322, 1.8278468507465275, 1.8264627888393334, 1.829538779356304, 1.8267946156441361, 1.8246784586515095, 2.6629496078260346, 2.658157955222599, 2.657355971067195, 3.4866987802453817, 2.665257318729656, 2.6027219774457646, 1.823523905318914, 12.741583064363635, 6.439749418496957, 2.8551428709399276, 3.4751209229383253, 2.6602566866573074, 4.040671693757391, 2.949261560126526, 4.9028442823942155, 5.312813630831084, 4.1055094480084255, 2.6563708403262125, 2.652375763060974, 2.656132605000405, 1.8297732618481668, 1.829049327419232, 3.339408507596143, 2.5438042062672235, 2.5423502454993376, 4.832270962439352, 1.7492154607217725, 1.7492154607217725, 1.7492146643426312, 1.7468894825814316, 2.5430072283693397, 1.7487339397506787, 3.343558009621221, 2.3245090876344716, 1.7502862358882876, 1.7500688784832483, 4.139772581950247, 0.9556495884242702, 0.9554971697819474, 0.9544274969855773, 2.547524783165601, 0.9551495379850693, 0.954709623615726, 0.9547226867938506, 0.954194036371364, 0.9539141060890222, 0.9538111142405982, 5.698221992016803, 0.9548800213449328, 0.9546500239077403, 0.954431439677139, 0.9542209905017048, 1.7509194402718589, 7.968644842508816, 1.7533753458612247, 3.342535826496401, 3.3474428813819985, 3.6366009489588276, 1.7491519817563779, 3.361255748478368, 1.74864202623119, 2.0753084725378086, 2.5428028293236316, 1.750449150874508, 1.9273574710513104, 1.7510041533583838, 1.7498049118503438, 1.7492769109428616], \"Total\": [32.0, 32.0, 26.0, 14.0, 6.0, 23.0, 15.0, 6.0, 9.0, 4.0, 6.0, 5.0, 14.0, 19.0, 16.0, 12.0, 7.0, 5.0, 12.0, 3.0, 3.0, 4.0, 4.0, 8.0, 5.0, 18.0, 7.0, 11.0, 7.0, 4.0, 4.261867174218626, 3.4047041630312713, 2.547943460558317, 2.547943402562454, 2.547943220403722, 2.547943163592187, 2.547943133171204, 2.5479431121335367, 2.5479423628149105, 2.5477880208160872, 2.5477293223936117, 2.5477291296299693, 5.105629977180417, 5.937532611006196, 6.757859367588653, 6.806710848253546, 6.806263526980592, 4.248650649668761, 4.248636511390993, 4.248857704455995, 4.248626397351566, 5.900951690217221, 19.505101996761603, 3.3430340327498764, 3.3782986125142838, 3.3782503458235698, 3.378259369299105, 3.378236937557576, 3.3782215964575215, 3.3916921543999035, 23.712172906032322, 5.043691989482234, 5.065507406683401, 12.641453772553183, 15.236916815943633, 15.269810913409609, 32.74891906545033, 22.780614704879362, 36.18481165914286, 19.40700776446344, 10.971721718336958, 8.432958000906478, 12.712558875928096, 17.655589241820522, 26.782440407900935, 7.521262877527569, 18.49108120373664, 18.58157227435976, 15.092828112142943, 8.46705100637187, 6.7400827605279545, 5.896359362494227, 5.052636188906831, 3.3651896665989716, 2.5214663319210895, 2.52146633789961, 2.521466235996263, 2.521445382954095, 2.521584761068177, 5.039226761931318, 4.19549078636289, 4.2091970646381, 4.222104073623765, 4.222120237506681, 8.46705100637187, 11.789318007276163, 9.249336591466122, 3.3165827367845937, 3.3517741028758086, 3.351759768240366, 3.3517615911290473, 3.365474510906971, 3.37835149821798, 3.378402617217387, 3.37841345434435, 3.3784201125875177, 3.3784210745999035, 3.3784268952495515, 12.712558875928096, 8.401334323238538, 18.49108120373664, 9.284121038632096, 14.943470384491501, 16.710769447955425, 8.454838123257938, 36.18481165914286, 15.269810913409609, 18.58157227435976, 12.641453772553183, 9.978093762220944, 15.092828112142943, 32.35895328075395, 19.505101996761603, 6.692302469825682, 17.655589241820522, 22.780614704879362, 23.712172906032322, 3.3660426985656864, 5.8977862268482975, 2.5220367990067203, 2.522036718437223, 2.5220366261972798, 2.5220364106561948, 2.5220112052378965, 2.5220342430602174, 4.196368203229804, 3.356227894814595, 5.8619952946491045, 5.897501387232655, 7.4715376743118735, 3.352348779236691, 3.3657599708871087, 3.3657601031062625, 3.3789656129232783, 3.37899345775055, 5.018013952486863, 26.782440407900935, 5.874803299102559, 5.9236628988114886, 15.236916815943633, 3.3656424895359605, 7.541426911935051, 4.209317864564711, 2.5098771612457833, 4.222668322850172, 4.23595025470015, 4.235950768162962, 32.35895328075395, 19.40700776446344, 8.432958000906478, 18.58157227435976, 8.33495185780138, 6.692302469825682, 17.655589241820522, 15.092828112142943, 22.780614704879362, 16.710769447955425, 6.767196814954768, 36.18481165914286, 14.777097875442736, 8.454838123257938, 14.943470384491501, 32.74891906545033, 18.49108120373664, 4.155293273547829, 3.3249387114229223, 3.324956421584063, 3.324985017856716, 2.494632440110633, 2.4946324303856064, 2.4946362482348037, 2.4946362535395505, 2.4946664031729853, 2.4947096233530677, 2.494724076969662, 4.120132562735707, 4.1688965202537975, 4.181843530941802, 3.289729617851104, 3.2897151891607583, 3.3383140577356056, 3.3383386654162948, 3.338621256884373, 3.3386440752651922, 3.3514973114290667, 3.351589575730979, 3.351626340875132, 5.025504630166435, 5.0384872221851325, 5.038849794049688, 7.521262877527569, 5.8690874118905425, 5.809303672570351, 4.1335958020888555, 32.74891906545033, 23.712172906032322, 7.541426911935051, 10.971721718336958, 6.713242660892384, 14.777097875442736, 8.33495185780138, 26.782440407900935, 36.18481165914286, 32.35895328075395, 9.978093762220944, 14.943470384491501, 22.780614704879362, 4.195515649658378, 11.789318007276163, 4.014418360633624, 3.2193497568933798, 3.219471199446258, 6.4691523696090645, 2.4242190531328536, 2.4242190531328536, 2.4242191023834447, 2.424399868608366, 4.063154332943283, 3.2682568441711752, 6.532032682037229, 4.937409850934909, 4.111600212772043, 4.11161351411143, 9.844997093488457, 2.4593583532576755, 2.459365084478082, 2.4594123047637417, 6.593744991316662, 2.472632756128407, 2.4728065887130413, 2.4730907255795826, 2.4731232440683906, 2.4731404550858564, 2.473084639312462, 14.777097875442736, 2.486021455148241, 2.4860395273503895, 2.4860564862670698, 2.4860730388771386, 4.928446681302073, 32.35895328075395, 5.825630956665385, 14.943470384491501, 16.710769447955425, 26.782440407900935, 7.4715376743118735, 36.18481165914286, 9.978093762220944, 15.092828112142943, 32.74891906545033, 12.641453772553183, 17.655589241820522, 22.780614704879362, 18.49108120373664, 19.40700776446344], \"Category\": [\"Default\", \"Default\", \"Default\", \"Default\", \"Default\", \"Default\", \"Default\", \"Default\", \"Default\", \"Default\", \"Default\", \"Default\", \"Default\", \"Default\", \"Default\", \"Default\", \"Default\", \"Default\", \"Default\", \"Default\", \"Default\", \"Default\", \"Default\", \"Default\", \"Default\", \"Default\", \"Default\", \"Default\", \"Default\", \"Default\", \"Topic1\", \"Topic1\", \"Topic1\", \"Topic1\", \"Topic1\", \"Topic1\", \"Topic1\", \"Topic1\", \"Topic1\", \"Topic1\", \"Topic1\", \"Topic1\", \"Topic1\", \"Topic1\", \"Topic1\", \"Topic1\", \"Topic1\", \"Topic1\", \"Topic1\", \"Topic1\", \"Topic1\", \"Topic1\", \"Topic1\", \"Topic1\", \"Topic1\", \"Topic1\", \"Topic1\", \"Topic1\", \"Topic1\", \"Topic1\", \"Topic1\", \"Topic1\", \"Topic1\", \"Topic1\", \"Topic1\", \"Topic1\", \"Topic1\", \"Topic1\", \"Topic1\", \"Topic1\", \"Topic1\", \"Topic1\", \"Topic1\", \"Topic1\", \"Topic1\", \"Topic1\", \"Topic1\", \"Topic1\", \"Topic1\", \"Topic1\", \"Topic2\", \"Topic2\", \"Topic2\", \"Topic2\", \"Topic2\", \"Topic2\", \"Topic2\", \"Topic2\", \"Topic2\", \"Topic2\", \"Topic2\", \"Topic2\", \"Topic2\", \"Topic2\", \"Topic2\", \"Topic2\", \"Topic2\", \"Topic2\", \"Topic2\", \"Topic2\", \"Topic2\", \"Topic2\", \"Topic2\", \"Topic2\", \"Topic2\", \"Topic2\", \"Topic2\", \"Topic2\", \"Topic2\", \"Topic2\", \"Topic2\", \"Topic2\", \"Topic2\", \"Topic2\", \"Topic2\", \"Topic2\", \"Topic2\", \"Topic2\", \"Topic2\", \"Topic2\", \"Topic2\", \"Topic2\", \"Topic2\", \"Topic2\", \"Topic2\", \"Topic2\", \"Topic2\", \"Topic3\", \"Topic3\", \"Topic3\", \"Topic3\", \"Topic3\", \"Topic3\", \"Topic3\", \"Topic3\", \"Topic3\", \"Topic3\", \"Topic3\", \"Topic3\", \"Topic3\", \"Topic3\", \"Topic3\", \"Topic3\", \"Topic3\", \"Topic3\", \"Topic3\", \"Topic3\", \"Topic3\", \"Topic3\", \"Topic3\", \"Topic3\", \"Topic3\", \"Topic3\", \"Topic3\", \"Topic3\", \"Topic3\", \"Topic3\", \"Topic3\", \"Topic3\", \"Topic3\", \"Topic3\", \"Topic3\", \"Topic3\", \"Topic3\", \"Topic3\", \"Topic3\", \"Topic3\", \"Topic3\", \"Topic3\", \"Topic3\", \"Topic3\", \"Topic3\", \"Topic3\", \"Topic3\", \"Topic4\", \"Topic4\", \"Topic4\", \"Topic4\", \"Topic4\", \"Topic4\", \"Topic4\", \"Topic4\", \"Topic4\", \"Topic4\", \"Topic4\", \"Topic4\", \"Topic4\", \"Topic4\", \"Topic4\", \"Topic4\", \"Topic4\", \"Topic4\", \"Topic4\", \"Topic4\", \"Topic4\", \"Topic4\", \"Topic4\", \"Topic4\", \"Topic4\", \"Topic4\", \"Topic4\", \"Topic4\", \"Topic4\", \"Topic4\", \"Topic4\", \"Topic4\", \"Topic4\", \"Topic4\", \"Topic4\", \"Topic4\", \"Topic4\", \"Topic4\", \"Topic4\", \"Topic4\", \"Topic4\", \"Topic4\", \"Topic4\", \"Topic4\", \"Topic4\", \"Topic5\", \"Topic5\", \"Topic5\", \"Topic5\", \"Topic5\", \"Topic5\", \"Topic5\", \"Topic5\", \"Topic5\", \"Topic5\", \"Topic5\", \"Topic5\", \"Topic5\", \"Topic5\", \"Topic5\", \"Topic5\", \"Topic5\", \"Topic5\", \"Topic5\", \"Topic5\", \"Topic5\", \"Topic5\", \"Topic5\", \"Topic5\", \"Topic5\", \"Topic5\", \"Topic5\", \"Topic5\", \"Topic5\", \"Topic5\", \"Topic5\", \"Topic5\", \"Topic5\", \"Topic5\", \"Topic5\", \"Topic5\", \"Topic5\", \"Topic5\", \"Topic5\", \"Topic5\", \"Topic5\", \"Topic5\", \"Topic5\", \"Topic5\", \"Topic5\", \"Topic5\"], \"logprob\": [30.0, 29.0, 28.0, 27.0, 26.0, 25.0, 24.0, 23.0, 22.0, 21.0, 20.0, 19.0, 18.0, 17.0, 16.0, 15.0, 14.0, 13.0, 12.0, 11.0, 10.0, 9.0, 8.0, 7.0, 6.0, 5.0, 4.0, 3.0, 2.0, 1.0, -4.5569, -4.8299, -5.2036, -5.2036, -5.2036, -5.2036, -5.2036, -5.2036, -5.2036, -5.2047, -5.2051, -5.2051, -4.5562, -4.4308, -4.3425, -4.3411, -4.3427, -4.8283, -4.8287, -4.8287, -4.8289, -4.5571, -3.421, -5.2036, -5.2027, -5.2035, -5.2035, -5.2039, -5.204, -5.2027, -3.2702, -4.8286, -4.829, -4.0179, -3.8882, -3.8863, -3.2568, -3.5758, -3.3058, -3.8883, -4.3426, -4.5572, -4.3429, -4.2043, -4.186, -4.8292, -4.5581, -4.5585, -4.6614, -4.829, -3.8987, -4.0482, -4.2243, -4.7098, -5.0843, -5.0843, -5.0843, -5.085, -5.0884, -4.4375, -4.7109, -4.7088, -4.7085, -4.7089, -4.0489, -3.7761, -4.0476, -5.086, -5.0842, -5.0847, -5.0869, -5.0843, -5.0817, -5.0835, -5.0838, -5.084, -5.084, -5.0843, -3.7721, -4.2235, -3.466, -4.2229, -3.9681, -3.8981, -4.4393, -3.4483, -4.0579, -3.9325, -4.2249, -4.4377, -4.2423, -3.9045, -4.1984, -4.7107, -4.4378, -4.4394, -4.6386, -4.5746, -4.0864, -4.9472, -4.9472, -4.9472, -4.9472, -4.948, -4.9497, -4.5721, -4.826, -4.2993, -4.2992, -4.1305, -4.947, -4.9468, -4.9469, -4.9461, -4.9471, -4.5724, -3.0121, -4.57, -4.5717, -3.6311, -5.1538, -4.3577, -4.9463, -5.4637, -4.9464, -4.9468, -4.9481, -2.9217, -3.5165, -4.3009, -3.5927, -4.3876, -4.5723, -3.8661, -4.1069, -3.9107, -4.0878, -4.5716, -3.8791, -4.3024, -4.571, -4.4319, -4.4194, -4.637, -4.1974, -4.4685, -4.4687, -4.4696, -4.8432, -4.8432, -4.8433, -4.8434, -4.8444, -4.8458, -4.8464, -4.4692, -4.4674, -4.4679, -4.8433, -4.8434, -4.8418, -4.8426, -4.8426, -4.8433, -4.8416, -4.8432, -4.8443, -4.4663, -4.4681, -4.4684, -4.1968, -4.4654, -4.4892, -4.8449, -2.9008, -3.5832, -4.3966, -4.2001, -4.4673, -4.0493, -4.3642, -3.8559, -3.7756, -4.0334, -4.4688, -4.4703, -4.4688, -4.8415, -4.8419, -3.9011, -4.1732, -4.1738, -3.5316, -4.5477, -4.5477, -4.5477, -4.5491, -4.1736, -4.548, -3.8999, -4.2634, -4.5471, -4.5472, -3.6863, -5.1523, -5.1524, -5.1535, -4.1718, -5.1528, -5.1533, -5.1532, -5.1538, -5.1541, -5.1542, -3.3667, -5.1531, -5.1533, -5.1535, -5.1538, -4.5468, -3.0314, -4.5454, -3.9002, -3.8987, -3.8159, -4.5478, -3.8946, -4.5481, -4.3768, -4.1736, -4.547, -4.4508, -4.5467, -4.5474, -4.5477], \"loglift\": [30.0, 29.0, 28.0, 27.0, 26.0, 25.0, 24.0, 23.0, 22.0, 21.0, 20.0, 19.0, 18.0, 17.0, 16.0, 15.0, 14.0, 13.0, 12.0, 11.0, 10.0, 9.0, 8.0, 7.0, 6.0, 5.0, 4.0, 3.0, 2.0, 1.0, 1.1643, 1.1159, 1.032, 1.032, 1.032, 1.032, 1.032, 1.032, 1.032, 1.031, 1.0306, 1.0306, 0.9843, 0.9588, 0.9177, 0.9118, 0.9103, 0.896, 0.8956, 0.8955, 0.8954, 0.8387, 0.7793, 0.7604, 0.7508, 0.75, 0.75, 0.7496, 0.7495, 0.7469, 0.7347, 0.7242, 0.7195, 0.616, 0.559, 0.5587, 0.4252, 0.4692, 0.2765, 0.317, 0.433, 0.4815, 0.2854, 0.0956, -0.3029, 0.324, -0.3045, -0.3098, -0.2047, 0.2057, 1.3642, 1.3484, 1.3266, 1.2476, 1.1618, 1.1618, 1.1618, 1.1611, 1.1576, 1.1161, 1.026, 1.0248, 1.0221, 1.0217, 0.9858, 0.9276, 0.8987, 0.886, 0.8772, 0.8767, 0.8745, 0.873, 0.8718, 0.87, 0.8697, 0.8695, 0.8694, 0.8692, 0.8562, 0.819, 0.7876, 0.7196, 0.4985, 0.4567, 0.5969, 0.134, 0.3872, 0.3162, 0.409, 0.4328, 0.2144, -0.2105, 0.0018, 0.5592, -0.1379, -0.3944, -0.6337, 1.3826, 1.3099, 1.2986, 1.2986, 1.2986, 1.2986, 1.2978, 1.2962, 1.1646, 1.1341, 1.1031, 1.0972, 1.0293, 1.0142, 1.0104, 1.0104, 1.0072, 1.0062, 0.9854, 0.8711, 0.8302, 0.8202, 0.8161, 0.8034, 0.7928, 0.7873, 0.787, 0.7841, 0.7804, 0.7792, 0.7723, 0.6888, 0.7378, 0.656, 0.6628, 0.6976, 0.4338, 0.3498, 0.1343, 0.2671, 0.6872, -0.2969, 0.1754, 0.4651, 0.0347, -0.7374, -0.3834, 1.5491, 1.5009, 1.5007, 1.4998, 1.4135, 1.4135, 1.4134, 1.4134, 1.4124, 1.4109, 1.4104, 1.2858, 1.2759, 1.2723, 1.1368, 1.1366, 1.1236, 1.1228, 1.1228, 1.122, 1.1198, 1.1183, 1.1171, 1.0901, 1.0857, 1.0853, 0.9564, 0.9358, 0.9223, 0.9068, 0.7812, 0.4217, 0.7539, 0.5755, 0.7995, 0.4285, 0.6863, 0.0272, -0.1933, -0.3394, 0.4017, -0.0036, -0.4239, 0.8954, -0.1382, 1.8799, 1.8285, 1.8279, 1.7723, 1.7376, 1.7376, 1.7376, 1.7362, 1.5954, 1.4386, 1.3943, 1.3107, 1.21, 1.2098, 1.1977, 1.1187, 1.1186, 1.1174, 1.113, 1.1128, 1.1123, 1.1122, 1.1116, 1.1113, 1.1112, 1.1111, 1.1071, 1.1069, 1.1066, 1.1064, 1.0291, 0.6626, 0.8633, 0.5664, 0.4561, 0.0673, 0.612, -0.3123, 0.3224, 0.0799, -0.4916, 0.0869, -0.1509, -0.5017, -0.2938, -0.3424]}, \"token.table\": {\"Topic\": [1, 2, 3, 4, 5, 1, 3, 5, 1, 2, 3, 5, 1, 3, 4, 5, 1, 2, 3, 5, 1, 2, 4, 1, 2, 3, 4, 5, 1, 4, 1, 2, 2, 4, 3, 5, 4, 1, 4, 1, 2, 1, 1, 5, 1, 1, 1, 2, 2, 3, 3, 3, 5, 1, 5, 3, 4, 5, 3, 4, 2, 1, 2, 3, 4, 5, 2, 5, 1, 2, 4, 5, 2, 4, 5, 2, 3, 4, 5, 1, 4, 3, 1, 2, 1, 2, 4, 2, 3, 4, 1, 3, 5, 5, 1, 4, 5, 2, 2, 5, 3, 1, 2, 4, 5, 2, 3, 4, 5, 1, 3, 4, 2, 5, 1, 2, 4, 1, 1, 4, 1, 2, 4, 2, 3, 4, 5, 1, 2, 3, 5, 1, 2, 5, 1, 2, 1, 2, 3, 4, 5, 4, 5, 1, 3, 4, 5, 1, 3, 1, 1, 2, 1, 4, 1, 5, 1, 2, 3, 4, 1, 3, 1, 2, 3, 4, 2, 5, 1, 2, 1, 3, 2, 3, 4, 5, 1, 5, 2, 4, 2, 3, 4, 2, 1, 2, 3, 5, 3, 4, 2, 3, 4, 1, 3, 5, 3, 4, 5, 4, 1, 2, 1, 2, 3, 4, 1, 5, 1, 1, 2, 3, 2, 1, 2, 5, 1, 4, 2, 1, 3, 3, 3, 4, 5, 1, 2, 3, 2, 4, 1, 2, 3, 5, 1, 3, 5, 1, 2, 3, 4, 2, 3, 4, 5, 1, 2, 3, 5, 3, 4, 1, 3, 5, 5, 3, 4, 5, 4, 5, 4, 4, 5, 3, 1, 4, 1, 2, 3, 4, 1, 1, 2, 2, 3, 4, 4, 5, 2, 4, 5, 1, 2, 5, 1, 4, 2, 3, 4, 3, 5, 2, 3, 2, 3, 5, 3, 4, 2, 4, 5, 2, 4, 1, 3, 5, 1, 4, 1, 4, 2, 4, 1, 4, 1, 2, 3, 2, 4, 2, 5, 1, 2, 1, 4, 1, 2, 3, 1, 4, 1, 2, 3, 4, 2, 3, 4, 5, 1, 2, 1, 2, 2, 3, 1, 3, 1, 2, 3, 1, 2, 3, 4, 5, 2, 4, 2, 3, 1, 3, 5, 3, 4, 1, 2, 3, 4, 5, 4, 1, 4, 5, 1, 2, 3, 4, 5, 1, 1, 2, 5, 1, 2, 3, 4, 5, 3, 4, 1, 2, 1, 5, 4, 5, 2, 2, 3], \"Freq\": [0.21632050370270872, 0.4867211333310947, 0.16224037777703154, 0.05408012592567718, 0.10816025185135436, 0.3404369300850502, 0.5106553951275753, 0.1702184650425251, 0.21623172432121188, 0.5405793108030297, 0.10811586216060594, 0.10811586216060594, 0.23756818377112768, 0.47513636754225536, 0.23756818377112768, 0.8250079367964881, 0.706110568316877, 0.23537018943895902, 0.40434420048548536, 0.40434420048548536, 0.7849467919847081, 0.2995501955387438, 0.5991003910774876, 0.3592667587290115, 0.2763590451761627, 0.13817952258808136, 0.13817952258808136, 0.0829077135528488, 0.5920139778619241, 0.29600698893096206, 0.7834488628980119, 0.19586221572450296, 0.299552403610074, 0.599104807220148, 0.3059735044335533, 0.6119470088671066, 0.8016965105990401, 0.29836588800760333, 0.5967317760152067, 0.23684782615062075, 0.7105434784518622, 0.9385557635857957, 0.40224914307522347, 0.40224914307522347, 0.7850127493610601, 0.7850128087558816, 0.2959978763051183, 0.5919957526102366, 0.2971097192460909, 0.5942194384921818, 0.793009865946479, 0.4043470144071585, 0.4043470144071585, 0.15457975680056996, 0.7728987840028497, 0.344275340509974, 0.5164130107649609, 0.172137670254987, 0.7930098406128255, 0.8016918658312696, 0.7931520014234117, 0.08482254863112669, 0.5937578404178868, 0.16964509726225338, 0.16964509726225338, 0.8250079535574028, 0.404398793081688, 0.404398793081688, 0.15165888297422866, 0.30331776594845733, 0.15165888297422866, 0.454976648922686, 0.30618340375116343, 0.15309170187558171, 0.4592751056267452, 0.11997669777348698, 0.35993009332046094, 0.35993009332046094, 0.11997669777348698, 0.5920247859956134, 0.2960123929978067, 0.8912542913606943, 0.587693965146026, 0.293846982573013, 0.32313236627535546, 0.4308431550338073, 0.21542157751690366, 0.712725005251788, 0.23757500175059598, 0.801721317994271, 0.4594105280325037, 0.4594105280325037, 0.06563007543321482, 0.8249464231938041, 0.3988691857804306, 0.3988691857804306, 0.13295639526014352, 0.7931892544748803, 0.40442722338022313, 0.40442722338022313, 0.7930098949496998, 0.17038424031205243, 0.34076848062410486, 0.5111527209361573, 0.931865198422849, 0.18542008908454416, 0.432646874530603, 0.12361339272302943, 0.24722678544605886, 0.23834972468316867, 0.23834972468316867, 0.47669944936633735, 0.48642704211760635, 0.48642704211760635, 0.7849468481024863, 0.7150534115701701, 0.23835113719005668, 0.8811338243640658, 0.39691597919068233, 0.5953739687860236, 0.19898499227268285, 0.19898499227268285, 0.5969549768180485, 0.4008781732583832, 0.2004390866291916, 0.3006586299437874, 0.2004390866291916, 0.354314624742706, 0.5905243745711766, 0.4043533262484733, 0.4043533262484733, 0.5948023801326473, 0.19826746004421578, 0.19826746004421578, 0.29599634346070247, 0.5919926869214049, 0.2831964389019981, 0.22655715112159847, 0.2831964389019981, 0.11327857556079923, 0.11327857556079923, 0.6079526989535472, 0.3039763494767736, 0.18668948474631827, 0.48539266034042755, 0.18668948474631827, 0.14935158779705462, 0.2959485577998706, 0.5918971155997412, 0.7849468656044604, 0.5896761583758366, 0.2948380791879183, 0.23912898524321108, 0.7173869557296333, 0.40224621893514134, 0.40224621893514134, 0.5876553432597057, 0.14691383581492642, 0.14691383581492642, 0.7219707015862616, 0.7060721277753657, 0.23535737592512188, 0.3645735922480452, 0.1822867961240226, 0.0911433980620113, 0.27343019418603387, 0.24611420538279585, 0.7383426161483876, 0.2959957492068609, 0.5919914984137218, 0.4721490762977749, 0.4721490762977749, 0.40151315896653206, 0.20075657948326603, 0.20075657948326603, 0.20075657948326603, 0.40224347496687285, 0.40224347496687285, 0.8914802127726577, 0.9022722703710038, 0.5942698402612517, 0.29713492013062587, 0.8017200910213637, 0.793189284650395, 0.3606944504251624, 0.15458333589649817, 0.41222222905732847, 0.10305555726433212, 0.7149039013523647, 0.23830130045078823, 0.13260090055602097, 0.39780270166806286, 0.39780270166806286, 0.19928202860105895, 0.5978460858031769, 0.19928202860105895, 0.5353650311839455, 0.13384125779598638, 0.26768251559197276, 0.8017200893165372, 0.2959962591751317, 0.5919925183502635, 0.215267036660805, 0.32290055499120746, 0.3767173141564087, 0.1076335183304025, 0.4022407967754884, 0.4022407967754884, 0.7849467741178805, 0.23655095116467253, 0.47310190232934507, 0.3548264267470088, 0.7931958445424759, 0.47462895549458517, 0.31641930366305676, 0.15820965183152838, 0.3969445414476259, 0.5954168121714389, 0.7916659443603091, 0.47214901906599727, 0.47214901906599727, 0.7930106442857869, 0.23987162913295848, 0.7196148873988754, 0.8250079535574028, 0.31464947687079836, 0.5506365845238972, 0.07866236921769959, 0.7937725744389745, 0.19844314360974363, 0.34331045252904385, 0.17165522626452193, 0.17165522626452193, 0.34331045252904385, 0.47432941081528346, 0.47432941081528346, 0.11858235270382086, 0.5482416163004964, 0.12651729606934534, 0.04217243202311511, 0.2530345921386907, 0.06767228642789504, 0.27068914571158015, 0.27068914571158015, 0.4060337185673702, 0.1795249470315116, 0.3590498940630232, 0.23936659604201546, 0.1795249470315116, 0.3984258733617257, 0.3984258733617257, 0.2025353434677188, 0.2025353434677188, 0.4050706869354376, 0.7473062671839934, 0.7930178882021834, 0.6079553654339972, 0.3039776827169986, 0.7281319118548081, 0.242710637284936, 0.8017213148688562, 0.40661012197567553, 0.40661012197567553, 0.7930099627227947, 0.5920224362509251, 0.29601121812546255, 0.14895931080004654, 0.2979186216000931, 0.14895931080004654, 0.4468779324001396, 0.784994663472582, 0.29600235515087225, 0.5920047103017445, 0.7931892525941897, 0.5965966346900777, 0.29829831734503887, 0.4066090090939941, 0.4066090090939941, 0.24192012182097336, 0.4838402436419467, 0.24192012182097336, 0.5919034094116233, 0.14797585235290583, 0.14797585235290583, 0.5920208549336294, 0.2960104274668147, 0.4761148462971872, 0.2380574231485936, 0.2380574231485936, 0.4043523311364343, 0.4043523311364343, 0.3391266688516169, 0.6782533377032338, 0.44827621189066524, 0.44827621189066524, 0.14942540396355508, 0.29952484066228213, 0.5990496813245643, 0.2029036864279933, 0.4058073728559866, 0.4058073728559866, 0.8901967843982403, 0.8017104000182889, 0.17059037916881498, 0.6823615166752599, 0.17059037916881498, 0.7849468749762768, 0.902259704596744, 0.2983741018051432, 0.5967482036102864, 0.5966989237979994, 0.2983494618989997, 0.5922407686230639, 0.3948271790820425, 0.33762893570484503, 0.16881446785242252, 0.5064434035572676, 0.5967014757295617, 0.29835073786478084, 0.6030303353562612, 0.3015151676781306, 0.23684873289769853, 0.7105461986930957, 0.5920274744845763, 0.29601373724228813, 0.2955433475172789, 0.2955433475172789, 0.4433150212759184, 0.2983626151293743, 0.5967252302587486, 0.45842086976026375, 0.3274434784001884, 0.13097739136007536, 0.06548869568003768, 0.3047232997137418, 0.10157443323791393, 0.20314886647582786, 0.4062977329516557, 0.29599692681607276, 0.5919938536321455, 0.7061065376683513, 0.23536884588945042, 0.2971097075745533, 0.5942194151491066, 0.2959461190154881, 0.5918922380309762, 0.23681708425657988, 0.23681708425657988, 0.47363416851315976, 0.4389697174351537, 0.17558788697406147, 0.21948485871757684, 0.1316909152305461, 0.08779394348703073, 0.5967011512075643, 0.29835057560378214, 0.16955514519121312, 0.6782205807648525, 0.6778567610765773, 0.16946419026914433, 0.16946419026914433, 0.2995227935222681, 0.5990455870445363, 0.3969596667914095, 0.030535358983954576, 0.09160607695186372, 0.3969596667914095, 0.09160607695186372, 0.9022674644772491, 0.6736805104169601, 0.16842012760424002, 0.9318300472810546, 0.19876990433531463, 0.26502653911375285, 0.26502653911375285, 0.06625663477843821, 0.13251326955687642, 0.7849471123006269, 0.7849468814573678, 0.48642861574608176, 0.48642861574608176, 0.5639550104288771, 0.25634318655858046, 0.10253727462343219, 0.051268637311716096, 0.051268637311716096, 0.5959070905435294, 0.2979535452717647, 0.7061088873940424, 0.23536962913134749, 0.598258940952169, 0.2991294704760845, 0.40660120227220825, 0.40660120227220825, 0.8479808798297096, 0.2971200901786439, 0.5942401803572878], \"Term\": [\"able\", \"able\", \"able\", \"able\", \"able\", \"access\", \"access\", \"access\", \"add\", \"add\", \"add\", \"add\", \"added\", \"added\", \"added\", \"addition\", \"admin\", \"admin\", \"allow\", \"allow\", \"allows\", \"amazing\", \"amazing\", \"app\", \"app\", \"app\", \"app\", \"app\", \"apps\", \"apps\", \"audio\", \"audio\", \"available\", \"available\", \"awesome\", \"awesome\", \"better\", \"bit\", \"bit\", \"button\", \"button\", \"camera\", \"capability\", \"capability\", \"catch\", \"cause\", \"cell\", \"cell\", \"change\", \"change\", \"citizen\", \"come\", \"come\", \"comment\", \"comment\", \"connected\", \"connected\", \"connected\", \"connecting\", \"consider\", \"constantly\", \"contact\", \"contact\", \"contact\", \"contact\", \"country\", \"daily\", \"daily\", \"day\", \"day\", \"day\", \"day\", \"delete\", \"delete\", \"delete\", \"device\", \"device\", \"device\", \"device\", \"different\", \"different\", \"difficult\", \"doesnt\", \"doesnt\", \"dont\", \"dont\", \"dont\", \"download\", \"download\", \"easily\", \"easy\", \"easy\", \"easy\", \"edit\", \"elderly\", \"elderly\", \"elderly\", \"end\", \"enjoy\", \"enjoy\", \"enjoys\", \"experience\", \"experience\", \"experience\", \"facebook\", \"family\", \"family\", \"family\", \"family\", \"far\", \"far\", \"far\", \"fine\", \"fine\", \"fixed\", \"friend\", \"friend\", \"galaxy\", \"game\", \"game\", \"getting\", \"getting\", \"getting\", \"good\", \"good\", \"good\", \"good\", \"grand\", \"grand\", \"grandchild\", \"grandchild\", \"grandma\", \"grandma\", \"grandma\", \"grandmother\", \"grandmother\", \"grandpad\", \"grandpad\", \"grandpad\", \"grandpad\", \"grandpad\", \"grandparent\", \"grandparent\", \"great\", \"great\", \"great\", \"great\", \"group\", \"group\", \"hard\", \"havent\", \"havent\", \"hear\", \"hear\", \"hope\", \"hope\", \"im\", \"im\", \"im\", \"internet\", \"isnt\", \"isnt\", \"issue\", \"issue\", \"issue\", \"issue\", \"keeping\", \"keeping\", \"know\", \"know\", \"laptop\", \"laptop\", \"like\", \"like\", \"like\", \"like\", \"limited\", \"limited\", \"list\", \"live\", \"living\", \"living\", \"longer\", \"look\", \"love\", \"love\", \"love\", \"love\", \"loved\", \"loved\", \"make\", \"make\", \"make\", \"medium\", \"medium\", \"medium\", \"member\", \"member\", \"member\", \"message\", \"minute\", \"minute\", \"mom\", \"mom\", \"mom\", \"mom\", \"moment\", \"moment\", \"month\", \"mother\", \"mother\", \"mother\", \"multiple\", \"need\", \"need\", \"need\", \"notification\", \"notification\", \"old\", \"older\", \"older\", \"online\", \"overall\", \"overall\", \"overseas\", \"pad\", \"pad\", \"pad\", \"pandemic\", \"pandemic\", \"parent\", \"parent\", \"parent\", \"parent\", \"people\", \"people\", \"people\", \"phone\", \"phone\", \"phone\", \"phone\", \"photo\", \"photo\", \"photo\", \"photo\", \"picture\", \"picture\", \"picture\", \"picture\", \"pop\", \"pop\", \"post\", \"post\", \"post\", \"posted\", \"posting\", \"pretty\", \"pretty\", \"problem\", \"problem\", \"provides\", \"puzzle\", \"puzzle\", \"question\", \"real\", \"real\", \"really\", \"really\", \"really\", \"really\", \"receiving\", \"recording\", \"recording\", \"right\", \"say\", \"say\", \"saying\", \"saying\", \"screen\", \"screen\", \"screen\", \"send\", \"send\", \"send\", \"sending\", \"sending\", \"senior\", \"senior\", \"senior\", \"sent\", \"sent\", \"set\", \"set\", \"share\", \"share\", \"share\", \"sharing\", \"sharing\", \"simple\", \"simple\", \"simple\", \"sister\", \"smart\", \"social\", \"social\", \"social\", \"soon\", \"sound\", \"state\", \"state\", \"support\", \"support\", \"tablet\", \"tablet\", \"talk\", \"talk\", \"talk\", \"tech\", \"tech\", \"technology\", \"technology\", \"thank\", \"thank\", \"thats\", \"thats\", \"thing\", \"thing\", \"thing\", \"think\", \"think\", \"time\", \"time\", \"time\", \"time\", \"touch\", \"touch\", \"touch\", \"touch\", \"tried\", \"tried\", \"try\", \"try\", \"trying\", \"trying\", \"tv\", \"tv\", \"understand\", \"understand\", \"understand\", \"use\", \"use\", \"use\", \"use\", \"use\", \"used\", \"used\", \"user\", \"user\", \"using\", \"using\", \"using\", \"version\", \"version\", \"video\", \"video\", \"video\", \"video\", \"video\", \"voice\", \"volume\", \"volume\", \"watch\", \"way\", \"way\", \"way\", \"way\", \"way\", \"website\", \"wish\", \"wonderful\", \"wonderful\", \"work\", \"work\", \"work\", \"work\", \"work\", \"worked\", \"worked\", \"working\", \"working\", \"wouldnt\", \"wouldnt\", \"wrong\", \"wrong\", \"year\", \"yo\", \"yo\"]}, \"R\": 30, \"lambda.step\": 0.01, \"plot.opts\": {\"xlab\": \"PC1\", \"ylab\": \"PC2\"}, \"topic.order\": [3, 2, 5, 4, 1]};\n",
       "\n",
       "function LDAvis_load_lib(url, callback){\n",
       "  var s = document.createElement('script');\n",
       "  s.src = url;\n",
       "  s.async = true;\n",
       "  s.onreadystatechange = s.onload = callback;\n",
       "  s.onerror = function(){console.warn(\"failed to load library \" + url);};\n",
       "  document.getElementsByTagName(\"head\")[0].appendChild(s);\n",
       "}\n",
       "\n",
       "if(typeof(LDAvis) !== \"undefined\"){\n",
       "   // already loaded: just create the visualization\n",
       "   !function(LDAvis){\n",
       "       new LDAvis(\"#\" + \"ldavis_el5897001303293050372002577672137\", ldavis_el5897001303293050372002577672137_data);\n",
       "   }(LDAvis);\n",
       "}else if(typeof define === \"function\" && define.amd){\n",
       "   // require.js is available: use it to load d3/LDAvis\n",
       "   require.config({paths: {d3: \"https://d3js.org/d3.v5\"}});\n",
       "   require([\"d3\"], function(d3){\n",
       "      window.d3 = d3;\n",
       "      LDAvis_load_lib(\"https://cdn.jsdelivr.net/gh/bmabey/pyLDAvis@3.4.0/pyLDAvis/js/ldavis.v3.0.0.js\", function(){\n",
       "        new LDAvis(\"#\" + \"ldavis_el5897001303293050372002577672137\", ldavis_el5897001303293050372002577672137_data);\n",
       "      });\n",
       "    });\n",
       "}else{\n",
       "    // require.js not available: dynamically load d3 & LDAvis\n",
       "    LDAvis_load_lib(\"https://d3js.org/d3.v5.js\", function(){\n",
       "         LDAvis_load_lib(\"https://cdn.jsdelivr.net/gh/bmabey/pyLDAvis@3.4.0/pyLDAvis/js/ldavis.v3.0.0.js\", function(){\n",
       "                 new LDAvis(\"#\" + \"ldavis_el5897001303293050372002577672137\", ldavis_el5897001303293050372002577672137_data);\n",
       "            })\n",
       "         });\n",
       "}\n",
       "</script>"
      ],
      "text/plain": [
       "<IPython.core.display.HTML object>"
      ]
     },
     "execution_count": 21,
     "metadata": {},
     "output_type": "execute_result"
    }
   ],
   "source": [
    "# Visualizing the LDA model for mixed reviews\n",
    "panel = pyLDAvis.lda_model.prepare(lda_model_mixed, X_mixed, vectorizer_mixed)\n",
    "pyLDAvis.display(panel)"
   ]
  },
  {
   "cell_type": "markdown",
   "metadata": {},
   "source": [
    "## LDA Model for Negative Reviews\n",
    "\n",
    "Creating and analyzing an LDA model for negative reviews."
   ]
  },
  {
   "cell_type": "code",
   "execution_count": 22,
   "metadata": {},
   "outputs": [],
   "source": [
    "# Clean the content in the dataframe for negative reviews\n",
    "df_negative['cleaned_content'] = df_negative['content'].apply(preprocess_text)"
   ]
  },
  {
   "cell_type": "code",
   "execution_count": 23,
   "metadata": {},
   "outputs": [
    {
     "name": "stdout",
     "output_type": "stream",
     "text": [
      "Topic #1: grandpad account grand pad time installed help try log create\n",
      "Topic #2: app phone grandpad answer work suck need way ive fine\n",
      "Topic #3: picture say make app link account dont ive notification actually\n",
      "Topic #4: app like email account phone dont say problem wont let\n",
      "Topic #5: app open registered tried wont let email sign isnt say\n"
     ]
    }
   ],
   "source": [
    "# Make LDA model for negative reviews\n",
    "lda_model_negative, vectorizer_negative, X_negative = make_lda_model(df_negative)"
   ]
  },
  {
   "cell_type": "code",
   "execution_count": 24,
   "metadata": {},
   "outputs": [
    {
     "data": {
      "text/html": [
       "\n",
       "<link rel=\"stylesheet\" type=\"text/css\" href=\"https://cdn.jsdelivr.net/gh/bmabey/pyLDAvis@3.4.0/pyLDAvis/js/ldavis.v1.0.0.css\">\n",
       "\n",
       "\n",
       "<div id=\"ldavis_el589700130329305031152498203181\" style=\"background-color:white;\"></div>\n",
       "<script type=\"text/javascript\">\n",
       "\n",
       "var ldavis_el589700130329305031152498203181_data = {\"mdsDat\": {\"x\": [0.10431013431714281, 0.07320946438550965, -0.16004205787241615, -0.05026306274616303, 0.03278552191592681], \"y\": [0.12371571854329458, -0.0714226423352917, 0.051948822202866105, -0.04883444603873239, -0.055407452372136456], \"topics\": [1, 2, 3, 4, 5], \"cluster\": [1, 1, 1, 1, 1], \"Freq\": [31.145674378400507, 23.592793858009546, 18.86362986458746, 15.442443246509562, 10.95545865249293]}, \"tinfo\": {\"Term\": [\"app\", \"phone\", \"picture\", \"grandpad\", \"open\", \"registered\", \"like\", \"say\", \"email\", \"tried\", \"let\", \"sign\", \"account\", \"isnt\", \"answer\", \"suck\", \"need\", \"pad\", \"grand\", \"make\", \"wont\", \"soon\", \"longer\", \"possible\", \"restart\", \"time\", \"type\", \"link\", \"posted\", \"want\", \"grand\", \"pad\", \"installed\", \"help\", \"create\", \"set\", \"bought\", \"useful\", \"horrible\", \"edit\", \"time\", \"type\", \"support\", \"going\", \"got\", \"mom\", \"tried\", \"account\", \"post\", \"try\", \"log\", \"grandpad\", \"looking\", \"finally\", \"husband\", \"told\", \"button\", \"terrible\", \"thinking\", \"sure\", \"problem\", \"trying\", \"way\", \"let\", \"email\", \"dont\", \"work\", \"wont\", \"app\", \"picture\", \"join\", \"figure\", \"confusing\", \"icon\", \"number\", \"make\", \"say\", \"posted\", \"pop\", \"actually\", \"link\", \"know\", \"sign\", \"family\", \"notification\", \"new\", \"fun\", \"gmail\", \"working\", \"bug\", \"android\", \"dont\", \"screen\", \"aunt\", \"home\", \"recommend\", \"sent\", \"weve\", \"sure\", \"send\", \"trying\", \"try\", \"ive\", \"account\", \"work\", \"app\", \"phone\", \"way\", \"suck\", \"need\", \"fine\", \"ring\", \"connect\", \"phone\", \"answer\", \"worked\", \"app\", \"way\", \"customer\", \"issue\", \"android\", \"bug\", \"terrible\", \"button\", \"told\", \"husband\", \"grandpad\", \"message\", \"work\", \"restart\", \"ive\", \"fix\", \"service\", \"pop\", \"didnt\", \"support\", \"send\", \"problem\", \"wont\", \"soon\", \"longer\", \"possible\", \"like\", \"restart\", \"want\", \"address\", \"havent\", \"email\", \"issue\", \"customer\", \"working\", \"gmail\", \"fun\", \"send\", \"problem\", \"let\", \"use\", \"fix\", \"service\", \"text\", \"mom\", \"dont\", \"open\", \"wont\", \"notification\", \"phone\", \"say\", \"work\", \"account\", \"app\", \"registered\", \"isnt\", \"open\", \"sign\", \"havent\", \"address\", \"new\", \"finally\", \"tried\", \"let\", \"use\", \"posted\", \"page\", \"got\", \"email\", \"wont\", \"family\", \"type\", \"app\", \"link\", \"log\", \"say\", \"time\", \"ive\", \"number\", \"possible\", \"longer\", \"soon\", \"issue\", \"customer\", \"grandpad\", \"screen\", \"android\", \"fix\", \"set\"], \"Freq\": [24.0, 11.0, 5.0, 15.0, 3.0, 2.0, 4.0, 7.0, 6.0, 4.0, 5.0, 3.0, 12.0, 2.0, 5.0, 3.0, 3.0, 4.0, 4.0, 4.0, 7.0, 2.0, 2.0, 2.0, 3.0, 6.0, 4.0, 4.0, 3.0, 3.0, 4.344535821407867, 4.344535821407867, 3.505886072810803, 3.46248635192221, 2.6735678475145, 2.671953194038969, 1.8380680847502382, 1.8380313334012908, 1.837801318704557, 1.8377959203425194, 4.341802596693264, 2.6732590297202683, 2.6731804719232732, 2.6734112152487572, 1.8382217183682363, 1.838731447163595, 2.6685340982402557, 6.853602512741762, 1.8378317571839007, 2.765988848691429, 2.6740186537981434, 8.362491637053356, 1.0712105475214055, 1.0013139014194303, 1.0029903839412928, 1.002611550894627, 1.0022985371502924, 1.00215628066113, 1.0025860586113995, 1.0025042982663055, 1.838284208694604, 1.8357546705655514, 2.0401285255305, 1.8330003161511883, 1.8368151732365954, 1.8385501467244922, 1.837330321388808, 1.4527148382687123, 1.5627890459131428, 5.089572139042588, 1.8060301275315436, 1.8060242466605267, 1.8058511943176847, 1.8058511943176847, 1.7886756694097923, 3.4580128691725625, 4.775040804087968, 1.805892152142997, 1.8060673735571582, 1.807764368415701, 2.629105814017662, 1.7805458932693883, 1.8063935854506687, 1.80658518586063, 1.8100134026989807, 0.9832826649102373, 0.9850208605287035, 0.9847501048566009, 0.9843921745637506, 0.983845890081717, 0.9818775880026022, 2.620613549632925, 0.989600873976083, 0.9857268378427388, 0.9856220134819842, 0.9853725718274436, 0.9853103069119268, 0.9852324353509355, 0.9851774942923608, 1.8065869585653755, 1.8075463084679009, 1.7137714690066495, 2.03414419402471, 2.6249292609577304, 1.8065247041437529, 2.682789674344193, 1.007208091864289, 0.9860827239476047, 2.5579391541606, 2.5579087748387463, 1.7585908653934235, 1.7550260126125612, 1.755005272548499, 7.333157853026735, 3.40194584275184, 1.757476345909399, 10.747804950530526, 2.36366950575109, 0.9591854504982698, 0.9579708544723683, 0.9623135037588477, 0.9604274878300352, 0.9596279250511315, 0.9595018743891682, 0.9591996504663103, 0.9588211580087038, 5.132032016339351, 1.0394898014596434, 2.5593073173862644, 0.9591788508280011, 2.175292279525103, 0.9585442160719534, 0.9590294728308437, 0.9591950362174203, 0.9589048082118481, 0.9595751296401149, 0.9601648627468288, 0.9580162001105607, 1.3252392481156412, 1.6816095705334164, 1.6816046222939836, 1.6815987857198993, 3.214094673841882, 1.6816653001416435, 1.681714987484305, 0.9174505301367107, 0.9167107207210655, 2.4472982711741804, 0.9184334519765897, 0.917267419106696, 0.9178629824355449, 0.9175523740483856, 0.9173254788177476, 1.6800318543736015, 1.682589911465347, 1.6818419931603705, 0.9169654766175289, 0.919979365891299, 0.9171295343295258, 0.9179433123739899, 0.9166366533203228, 1.6870732473125643, 0.9157356236775288, 1.6825741758690207, 0.9189528876716732, 2.4448013791266927, 1.6832603240185913, 1.6805607107558918, 2.445532923977631, 4.7436320442132915, 2.299170316486415, 1.580249680341121, 2.3010520478785286, 1.5806775997200528, 0.8628485196080201, 0.8621658066815423, 0.8639305178291802, 0.8629055431208444, 1.5853092527961563, 1.5830154581402303, 0.8636175787341903, 0.8624827964058542, 0.8631818762720016, 0.8619951338175215, 1.5808616529981647, 1.5843301404816956, 0.8625924395484927, 0.8626257760098426, 4.462826601570709, 0.8614547813717692, 0.8629091812142701, 1.1362513315431217, 0.8636460793184237, 0.8648158321113003, 0.15198568536566712, 0.1437358019241094, 0.14373386262211355, 0.14373192010006472, 0.14373936267435683, 0.1437412003696834, 0.854242762331938, 0.14377743565517384, 0.14375696727205495, 0.14375281166655246, 0.14375278752748102], \"Total\": [24.0, 11.0, 5.0, 15.0, 3.0, 2.0, 4.0, 7.0, 6.0, 4.0, 5.0, 3.0, 12.0, 2.0, 5.0, 3.0, 3.0, 4.0, 4.0, 4.0, 7.0, 2.0, 2.0, 2.0, 3.0, 6.0, 4.0, 4.0, 3.0, 3.0, 4.965220408578575, 4.965220408578575, 4.129590984537317, 4.128914363341786, 3.2942362103607685, 3.2941633640762005, 2.458742824212459, 2.4587399930457803, 2.4587314077124462, 2.458730970059197, 6.504493545786602, 4.012830359538221, 4.093580705909456, 4.115156717750368, 3.177428023132095, 3.223173287542304, 4.730807955548541, 12.227678817841536, 3.2796569744886512, 4.937660823366354, 4.833689094895555, 15.416516070319807, 2.445372053797749, 2.3417716968560636, 2.422629864133153, 2.4226143110712957, 2.4226009239937034, 2.4225942716158264, 2.4441759985306035, 2.444174361098581, 4.786818423450557, 4.86497953105069, 5.686518937424026, 5.424309347333447, 6.189040533122186, 6.449871925952148, 8.027460847660546, 7.027918211543655, 24.19984231657186, 5.713317297199524, 2.4296102650318003, 2.4296098679588107, 2.4296131276710087, 2.4296131276710087, 2.428226423492626, 4.906770925444908, 7.921594820227595, 3.1482301855962436, 3.22897392199944, 3.264792312842881, 4.8047748165751685, 3.2655536009781576, 3.866929642271205, 3.9836927310899846, 4.029243927694124, 2.3270969476997356, 2.373052345912656, 2.373033741723637, 2.3730091848295913, 2.4080121792880598, 2.4079588389369655, 6.449871925952148, 2.4426008973951965, 2.444163849912106, 2.444165290490222, 2.4438909978688095, 2.444172430311075, 2.4441740678102044, 2.444174361098581, 4.75781486882422, 4.86497953105069, 4.937660823366354, 7.159395157939645, 12.227678817841536, 8.027460847660546, 24.19984231657186, 11.096738955609236, 5.686518937424026, 3.1858466463293467, 3.1858454862142094, 2.386484200161409, 2.3866447910063764, 2.3866448227768293, 11.096738955609236, 5.639638439830215, 3.207457331911114, 24.19984231657186, 5.686518937424026, 2.351493538712004, 2.3514402739174916, 2.4079588389369655, 2.4080121792880598, 2.4225942716158264, 2.4226009239937034, 2.4226143110712957, 2.422629864133153, 15.416516070319807, 3.239910086751986, 8.027460847660546, 3.115866970416451, 7.159395157939645, 3.172234738873872, 3.1870057692429805, 3.22897392199944, 3.2447496994956153, 4.093580705909456, 4.75781486882422, 4.786818423450557, 7.027918211543655, 2.316506613779064, 2.3165066874081894, 2.3165068172157124, 4.6803987540584355, 3.115866970416451, 3.151988246904145, 2.2707823339060433, 2.270739793902762, 6.189040533122186, 2.3514402739174916, 2.351493538712004, 2.3730091848295913, 2.373033741723637, 2.373052345912656, 4.75781486882422, 4.786818423450557, 5.424309347333447, 3.091537544395352, 3.172234738873872, 3.1870057692429805, 3.2084548283597663, 3.223173287542304, 6.449871925952148, 3.7079529932027615, 7.027918211543655, 4.029243927694124, 11.096738955609236, 7.921594820227595, 8.027460847660546, 12.227678817841536, 24.19984231657186, 2.9437346109121805, 2.225138231370244, 3.7079529932027615, 3.866929642271205, 2.270739793902762, 2.2707823339060433, 2.3270969476997356, 2.3417716968560636, 4.730807955548541, 5.424309347333447, 3.091537544395352, 3.1482301855962436, 3.1626857173933707, 3.177428023132095, 6.189040533122186, 7.027918211543655, 3.9836927310899846, 4.012830359538221, 24.19984231657186, 4.8047748165751685, 4.833689094895555, 7.921594820227595, 6.504493545786602, 7.159395157939645, 2.428226423492626, 2.3165068172157124, 2.3165066874081894, 2.316506613779064, 2.3514402739174916, 2.351493538712004, 15.416516070319807, 2.4426008973951965, 2.4079588389369655, 3.172234738873872, 3.2941633640762005], \"Category\": [\"Default\", \"Default\", \"Default\", \"Default\", \"Default\", \"Default\", \"Default\", \"Default\", \"Default\", \"Default\", \"Default\", \"Default\", \"Default\", \"Default\", \"Default\", \"Default\", \"Default\", \"Default\", \"Default\", \"Default\", \"Default\", \"Default\", \"Default\", \"Default\", \"Default\", \"Default\", \"Default\", \"Default\", \"Default\", \"Default\", \"Topic1\", \"Topic1\", \"Topic1\", \"Topic1\", \"Topic1\", \"Topic1\", \"Topic1\", \"Topic1\", \"Topic1\", \"Topic1\", \"Topic1\", \"Topic1\", \"Topic1\", \"Topic1\", \"Topic1\", \"Topic1\", \"Topic1\", \"Topic1\", \"Topic1\", \"Topic1\", \"Topic1\", \"Topic1\", \"Topic1\", \"Topic1\", \"Topic1\", \"Topic1\", \"Topic1\", \"Topic1\", \"Topic1\", \"Topic1\", \"Topic1\", \"Topic1\", \"Topic1\", \"Topic1\", \"Topic1\", \"Topic1\", \"Topic1\", \"Topic1\", \"Topic1\", \"Topic2\", \"Topic2\", \"Topic2\", \"Topic2\", \"Topic2\", \"Topic2\", \"Topic2\", \"Topic2\", \"Topic2\", \"Topic2\", \"Topic2\", \"Topic2\", \"Topic2\", \"Topic2\", \"Topic2\", \"Topic2\", \"Topic2\", \"Topic2\", \"Topic2\", \"Topic2\", \"Topic2\", \"Topic2\", \"Topic2\", \"Topic2\", \"Topic2\", \"Topic2\", \"Topic2\", \"Topic2\", \"Topic2\", \"Topic2\", \"Topic2\", \"Topic2\", \"Topic2\", \"Topic2\", \"Topic2\", \"Topic2\", \"Topic2\", \"Topic2\", \"Topic2\", \"Topic3\", \"Topic3\", \"Topic3\", \"Topic3\", \"Topic3\", \"Topic3\", \"Topic3\", \"Topic3\", \"Topic3\", \"Topic3\", \"Topic3\", \"Topic3\", \"Topic3\", \"Topic3\", \"Topic3\", \"Topic3\", \"Topic3\", \"Topic3\", \"Topic3\", \"Topic3\", \"Topic3\", \"Topic3\", \"Topic3\", \"Topic3\", \"Topic3\", \"Topic3\", \"Topic3\", \"Topic3\", \"Topic3\", \"Topic3\", \"Topic3\", \"Topic4\", \"Topic4\", \"Topic4\", \"Topic4\", \"Topic4\", \"Topic4\", \"Topic4\", \"Topic4\", \"Topic4\", \"Topic4\", \"Topic4\", \"Topic4\", \"Topic4\", \"Topic4\", \"Topic4\", \"Topic4\", \"Topic4\", \"Topic4\", \"Topic4\", \"Topic4\", \"Topic4\", \"Topic4\", \"Topic4\", \"Topic4\", \"Topic4\", \"Topic4\", \"Topic4\", \"Topic4\", \"Topic4\", \"Topic4\", \"Topic4\", \"Topic5\", \"Topic5\", \"Topic5\", \"Topic5\", \"Topic5\", \"Topic5\", \"Topic5\", \"Topic5\", \"Topic5\", \"Topic5\", \"Topic5\", \"Topic5\", \"Topic5\", \"Topic5\", \"Topic5\", \"Topic5\", \"Topic5\", \"Topic5\", \"Topic5\", \"Topic5\", \"Topic5\", \"Topic5\", \"Topic5\", \"Topic5\", \"Topic5\", \"Topic5\", \"Topic5\", \"Topic5\", \"Topic5\", \"Topic5\", \"Topic5\", \"Topic5\", \"Topic5\", \"Topic5\", \"Topic5\"], \"logprob\": [30.0, 29.0, 28.0, 27.0, 26.0, 25.0, 24.0, 23.0, 22.0, 21.0, 20.0, 19.0, 18.0, 17.0, 16.0, 15.0, 14.0, 13.0, 12.0, 11.0, 10.0, 9.0, 8.0, 7.0, 6.0, 5.0, 4.0, 3.0, 2.0, 1.0, -3.3435, -3.3435, -3.5579, -3.5704, -3.829, -3.8296, -4.2037, -4.2037, -4.2038, -4.2038, -3.3441, -3.8291, -3.8291, -3.829, -4.2036, -4.2033, -3.8309, -2.8876, -4.2038, -3.795, -3.8288, -2.6886, -4.7436, -4.8111, -4.8094, -4.8098, -4.8101, -4.8102, -4.8098, -4.8099, -4.2036, -4.2049, -4.0994, -4.2064, -4.2044, -4.2034, -4.2041, -4.439, -4.3659, -2.9075, -3.9435, -3.9435, -3.9436, -3.9436, -3.9532, -3.294, -2.9713, -3.9436, -3.9435, -3.9426, -3.568, -3.9577, -3.9433, -3.9432, -3.9413, -4.5515, -4.5497, -4.55, -4.5504, -4.5509, -4.5529, -3.5712, -4.5451, -4.549, -4.5491, -4.5494, -4.5495, -4.5495, -4.5496, -3.9432, -3.9427, -3.996, -3.8246, -3.5696, -3.9433, -3.5478, -4.5275, -4.5487, -3.3717, -3.3718, -3.7464, -3.7485, -3.7485, -2.3185, -3.0866, -3.7471, -1.9362, -3.4507, -4.3526, -4.3539, -4.3494, -4.3513, -4.3522, -4.3523, -4.3526, -4.353, -2.6754, -4.2722, -3.3712, -4.3526, -3.5338, -4.3533, -4.3528, -4.3526, -4.3529, -4.3522, -4.3516, -4.3538, -4.0294, -3.5911, -3.5911, -3.5911, -2.9433, -3.5911, -3.591, -4.197, -4.1978, -3.2159, -4.1959, -4.1972, -4.1965, -4.1969, -4.1971, -3.592, -3.5905, -3.5909, -4.1975, -4.1942, -4.1973, -4.1965, -4.1979, -3.5878, -4.1989, -3.5905, -4.1954, -3.2169, -3.5901, -3.5917, -3.2166, -2.554, -2.935, -3.31, -2.9342, -3.3097, -3.9151, -3.9159, -3.9138, -3.915, -3.3068, -3.3082, -3.9142, -3.9155, -3.9147, -3.9161, -3.3096, -3.3074, -3.9154, -3.9153, -2.2718, -3.9167, -3.915, -3.6398, -3.9141, -3.9128, -5.6515, -5.7073, -5.7073, -5.7074, -5.7073, -5.7073, -3.9251, -5.707, -5.7072, -5.7072, -5.7072], \"loglift\": [30.0, 29.0, 28.0, 27.0, 26.0, 25.0, 24.0, 23.0, 22.0, 21.0, 20.0, 19.0, 18.0, 17.0, 16.0, 15.0, 14.0, 13.0, 12.0, 11.0, 10.0, 9.0, 8.0, 7.0, 6.0, 5.0, 4.0, 3.0, 2.0, 1.0, 1.033, 1.033, 1.0028, 0.9905, 0.9577, 0.9572, 0.8756, 0.8755, 0.8754, 0.8754, 0.7623, 0.7603, 0.7403, 0.7352, 0.6192, 0.6052, 0.5939, 0.5876, 0.5873, 0.587, 0.5745, 0.5548, 0.3411, 0.3169, 0.2846, 0.2843, 0.2839, 0.2838, 0.2754, 0.2753, 0.2095, 0.1919, 0.1414, 0.0816, -0.0483, -0.0886, -0.3081, -0.41, -1.5734, 1.3286, 1.1476, 1.1476, 1.1475, 1.1475, 1.1385, 1.0943, 0.938, 0.8884, 0.8632, 0.8531, 0.8413, 0.8377, 0.6831, 0.6535, 0.644, 0.5827, 0.565, 0.5647, 0.5643, 0.5491, 0.5472, 0.5436, 0.5407, 0.5361, 0.536, 0.5359, 0.5357, 0.5356, 0.5356, 0.4759, 0.4541, 0.386, 0.1859, -0.0944, -0.0472, -0.7553, -0.9552, -0.3079, 1.4484, 1.4484, 1.3626, 1.3605, 1.3605, 1.2537, 1.1625, 1.0663, 0.8563, 0.7901, 0.7712, 0.77, 0.7507, 0.7488, 0.7419, 0.7418, 0.7414, 0.741, 0.568, 0.5311, 0.5248, 0.4897, 0.4767, 0.4712, 0.467, 0.4541, 0.4489, 0.2172, 0.0675, 0.0592, -0.0004, 1.5477, 1.5477, 1.5477, 1.4922, 1.2513, 1.2398, 0.9618, 0.961, 0.9403, 0.9279, 0.9266, 0.9182, 0.9178, 0.9176, 0.8271, 0.8225, 0.697, 0.6527, 0.6302, 0.6225, 0.6166, 0.6106, 0.527, 0.4695, 0.4385, 0.39, 0.3554, 0.3192, 0.3043, 0.2586, 0.2385, 1.9642, 1.8691, 1.7342, 1.3167, 1.2437, 1.2429, 1.2204, 1.213, 1.118, 0.9798, 0.936, 0.9166, 0.9128, 0.9068, 0.8465, 0.7216, 0.6813, 0.6741, 0.5208, 0.4926, 0.4883, 0.2695, 0.1922, 0.0977, -0.5598, -0.5685, -0.5685, -0.5685, -0.5834, -0.5835, -0.6816, -0.6212, -0.6071, -0.8828, -0.9205]}, \"token.table\": {\"Topic\": [1, 2, 4, 1, 2, 4, 5, 2, 3, 1, 2, 3, 1, 2, 3, 4, 5, 1, 2, 1, 2, 3, 1, 3, 2, 3, 1, 3, 4, 1, 2, 3, 1, 2, 4, 1, 1, 4, 5, 1, 2, 5, 2, 1, 5, 3, 2, 3, 4, 2, 4, 2, 4, 1, 2, 1, 5, 1, 1, 3, 4, 5, 4, 5, 1, 1, 2, 1, 1, 3, 2, 1, 5, 3, 4, 1, 2, 3, 4, 5, 2, 1, 2, 1, 4, 5, 1, 4, 1, 2, 5, 1, 2, 5, 4, 1, 2, 1, 2, 1, 2, 3, 1, 4, 3, 2, 5, 1, 2, 4, 2, 4, 5, 1, 1, 2, 5, 2, 3, 4, 2, 2, 3, 4, 1, 2, 2, 5, 1, 3, 4, 1, 2, 5, 3, 4, 3, 2, 4, 5, 1, 2, 2, 3, 4, 1, 2, 1, 3, 4, 1, 2, 5, 4, 3, 1, 3, 1, 2, 1, 3, 1, 2, 4, 1, 2, 1, 2, 5, 1, 3, 1, 5, 1, 2, 1, 2, 4, 1, 5, 2, 4, 5, 1, 1, 4, 1, 2, 3, 1, 2, 1, 2, 3, 4, 5, 1, 2, 3, 4, 2, 3, 2, 4], \"Freq\": [0.5724716934653391, 0.24534501148514534, 0.1635633409900969, 0.3062981973053075, 0.612596394610615, 0.4403768626647138, 0.4403768626647138, 0.41528949076283506, 0.41528949076283506, 0.1773163316530103, 0.1773163316530103, 0.5319489949590309, 0.0826451666021979, 0.12396774990329684, 0.4545484163120884, 0.20661291650549474, 0.1652903332043958, 0.4091378734842023, 0.4091378734842023, 0.813423827943699, 0.4152802916036973, 0.4152802916036973, 0.4127795007819452, 0.4127795007819452, 0.8231763226918232, 0.8379964965516011, 0.9106815080729912, 0.4252616405434545, 0.4252616405434545, 0.30819018186686215, 0.30819018186686215, 0.30819018186686215, 0.31008367653823676, 0.46512551480735514, 0.31008367653823676, 0.8134277496621957, 0.3231518664801925, 0.3231518664801925, 0.3231518664801925, 0.25102337642551775, 0.5020467528510355, 0.25102337642551775, 0.8231774271151857, 0.42702711000502147, 0.42702711000502147, 0.8380528980098552, 0.31523518349559315, 0.31523518349559315, 0.31523518349559315, 0.4213982054472585, 0.4213982054472585, 0.42140150913895424, 0.42140150913895424, 0.7290123331293223, 0.24300411104310743, 0.6294399071952964, 0.3147199535976482, 0.8056037136013274, 0.5189239879820684, 0.3243274924887928, 0.06486549849775855, 0.06486549849775855, 0.4403851126778739, 0.4403851126778739, 0.7265832458612472, 0.40913763234050005, 0.40913763234050005, 0.8134276048723676, 0.4127745698197328, 0.4127745698197328, 0.8231763226918232, 0.9686189298110751, 0.8988205639558835, 0.42527127356460703, 0.42527127356460703, 0.13967660367105417, 0.27935320734210833, 0.27935320734210833, 0.13967660367105417, 0.13967660367105417, 0.8231772925826945, 0.3062267909797781, 0.6124535819595562, 0.3687105347306908, 0.3687105347306908, 0.3687105347306908, 0.21365700927359807, 0.6409710278207942, 0.2081262989787308, 0.6243788969361924, 0.2081262989787308, 0.6206439721512174, 0.2068813240504058, 0.2068813240504058, 0.8633689731488273, 0.40893572757035673, 0.40893572757035673, 0.20380001740336548, 0.6114000522100964, 0.3086505406705595, 0.3086505406705595, 0.3086505406705595, 0.6205065075868187, 0.31025325379340934, 0.94166525431996, 0.4297199568709286, 0.4297199568709286, 0.24818552014851206, 0.4963710402970241, 0.24818552014851206, 0.8236464197285652, 0.26969058179355326, 0.5393811635871065, 0.8056037136013274, 0.31618696555919007, 0.31618696555919007, 0.31618696555919007, 0.090116565235998, 0.630815956651986, 0.180233130471996, 0.8751483140015403, 0.6193918093836952, 0.3096959046918476, 0.8633689247691778, 0.6098198731017687, 0.30490993655088433, 0.6352775629782038, 0.3176387814891019, 0.4178140516469202, 0.2089070258234601, 0.4178140516469202, 0.40918355232375264, 0.40918355232375264, 0.6794090719272605, 0.32093796349282044, 0.6418759269856409, 0.837996507706813, 0.6311860317865065, 0.2524744127146026, 0.1262372063573013, 0.40939966945332973, 0.40939966945332973, 0.4203610386577004, 0.2101805193288502, 0.4203610386577004, 0.4091364371836597, 0.4091364371836597, 0.3137741417510936, 0.3137741417510936, 0.3137741417510936, 0.9107016466505163, 0.5172062036342918, 0.5172062036342918, 0.8633690005906235, 0.941664911415785, 0.7328547341620081, 0.24428491138733602, 0.40913611398432753, 0.40913611398432753, 0.41278063426321, 0.41278063426321, 0.31167650894160237, 0.31167650894160237, 0.31167650894160237, 0.40913583989090097, 0.40913583989090097, 0.6149594848304629, 0.15373987120761573, 0.15373987120761573, 0.41277721981168086, 0.41277721981168086, 0.6341411505578961, 0.4227607670385974, 0.6075751468799121, 0.4050500979199414, 0.41110142133898353, 0.41110142133898353, 0.20555071066949177, 0.7476019993890863, 0.2492006664630288, 0.3234636441057945, 0.3234636441057945, 0.3234636441057945, 0.8134247645772772, 0.31726006623983805, 0.6345201324796761, 0.351709019526451, 0.1758545097632255, 0.351709019526451, 0.4091361630785669, 0.4091361630785669, 0.1422896467914862, 0.1422896467914862, 0.1422896467914862, 0.2845792935829724, 0.2845792935829724, 0.24914478412969934, 0.24914478412969934, 0.37371717619454903, 0.24914478412969934, 0.31177343812214187, 0.6235468762442837, 0.4214058699784642, 0.4214058699784642], \"Term\": [\"account\", \"account\", \"account\", \"actually\", \"actually\", \"address\", \"address\", \"android\", \"android\", \"answer\", \"answer\", \"answer\", \"app\", \"app\", \"app\", \"app\", \"app\", \"aunt\", \"aunt\", \"bought\", \"bug\", \"bug\", \"button\", \"button\", \"confusing\", \"connect\", \"create\", \"customer\", \"customer\", \"didnt\", \"didnt\", \"didnt\", \"dont\", \"dont\", \"dont\", \"edit\", \"email\", \"email\", \"email\", \"family\", \"family\", \"family\", \"figure\", \"finally\", \"finally\", \"fine\", \"fix\", \"fix\", \"fix\", \"fun\", \"fun\", \"gmail\", \"gmail\", \"going\", \"going\", \"got\", \"got\", \"grand\", \"grandpad\", \"grandpad\", \"grandpad\", \"grandpad\", \"havent\", \"havent\", \"help\", \"home\", \"home\", \"horrible\", \"husband\", \"husband\", \"icon\", \"installed\", \"isnt\", \"issue\", \"issue\", \"ive\", \"ive\", \"ive\", \"ive\", \"ive\", \"join\", \"know\", \"know\", \"let\", \"let\", \"let\", \"like\", \"like\", \"link\", \"link\", \"link\", \"log\", \"log\", \"log\", \"longer\", \"looking\", \"looking\", \"make\", \"make\", \"message\", \"message\", \"message\", \"mom\", \"mom\", \"need\", \"new\", \"new\", \"notification\", \"notification\", \"notification\", \"number\", \"open\", \"open\", \"pad\", \"page\", \"page\", \"page\", \"phone\", \"phone\", \"phone\", \"picture\", \"pop\", \"pop\", \"possible\", \"post\", \"post\", \"posted\", \"posted\", \"problem\", \"problem\", \"problem\", \"recommend\", \"recommend\", \"registered\", \"restart\", \"restart\", \"ring\", \"say\", \"say\", \"say\", \"screen\", \"screen\", \"send\", \"send\", \"send\", \"sent\", \"sent\", \"service\", \"service\", \"service\", \"set\", \"sign\", \"sign\", \"soon\", \"suck\", \"support\", \"support\", \"sure\", \"sure\", \"terrible\", \"terrible\", \"text\", \"text\", \"text\", \"thinking\", \"thinking\", \"time\", \"time\", \"time\", \"told\", \"told\", \"tried\", \"tried\", \"try\", \"try\", \"trying\", \"trying\", \"trying\", \"type\", \"type\", \"use\", \"use\", \"use\", \"useful\", \"want\", \"want\", \"way\", \"way\", \"way\", \"weve\", \"weve\", \"wont\", \"wont\", \"wont\", \"wont\", \"wont\", \"work\", \"work\", \"work\", \"work\", \"worked\", \"worked\", \"working\", \"working\"]}, \"R\": 30, \"lambda.step\": 0.01, \"plot.opts\": {\"xlab\": \"PC1\", \"ylab\": \"PC2\"}, \"topic.order\": [2, 4, 3, 5, 1]};\n",
       "\n",
       "function LDAvis_load_lib(url, callback){\n",
       "  var s = document.createElement('script');\n",
       "  s.src = url;\n",
       "  s.async = true;\n",
       "  s.onreadystatechange = s.onload = callback;\n",
       "  s.onerror = function(){console.warn(\"failed to load library \" + url);};\n",
       "  document.getElementsByTagName(\"head\")[0].appendChild(s);\n",
       "}\n",
       "\n",
       "if(typeof(LDAvis) !== \"undefined\"){\n",
       "   // already loaded: just create the visualization\n",
       "   !function(LDAvis){\n",
       "       new LDAvis(\"#\" + \"ldavis_el589700130329305031152498203181\", ldavis_el589700130329305031152498203181_data);\n",
       "   }(LDAvis);\n",
       "}else if(typeof define === \"function\" && define.amd){\n",
       "   // require.js is available: use it to load d3/LDAvis\n",
       "   require.config({paths: {d3: \"https://d3js.org/d3.v5\"}});\n",
       "   require([\"d3\"], function(d3){\n",
       "      window.d3 = d3;\n",
       "      LDAvis_load_lib(\"https://cdn.jsdelivr.net/gh/bmabey/pyLDAvis@3.4.0/pyLDAvis/js/ldavis.v3.0.0.js\", function(){\n",
       "        new LDAvis(\"#\" + \"ldavis_el589700130329305031152498203181\", ldavis_el589700130329305031152498203181_data);\n",
       "      });\n",
       "    });\n",
       "}else{\n",
       "    // require.js not available: dynamically load d3 & LDAvis\n",
       "    LDAvis_load_lib(\"https://d3js.org/d3.v5.js\", function(){\n",
       "         LDAvis_load_lib(\"https://cdn.jsdelivr.net/gh/bmabey/pyLDAvis@3.4.0/pyLDAvis/js/ldavis.v3.0.0.js\", function(){\n",
       "                 new LDAvis(\"#\" + \"ldavis_el589700130329305031152498203181\", ldavis_el589700130329305031152498203181_data);\n",
       "            })\n",
       "         });\n",
       "}\n",
       "</script>"
      ],
      "text/plain": [
       "<IPython.core.display.HTML object>"
      ]
     },
     "execution_count": 24,
     "metadata": {},
     "output_type": "execute_result"
    }
   ],
   "source": [
    "# Visualizing the LDA model for negative reviews\n",
    "panel = pyLDAvis.lda_model.prepare(lda_model_negative, X_negative, vectorizer_negative)\n",
    "pyLDAvis.display(panel)"
   ]
  }
 ],
 "metadata": {
  "kernelspec": {
   "display_name": "venv",
   "language": "python",
   "name": "python3"
  },
  "language_info": {
   "codemirror_mode": {
    "name": "ipython",
    "version": 3
   },
   "file_extension": ".py",
   "mimetype": "text/x-python",
   "name": "python",
   "nbconvert_exporter": "python",
   "pygments_lexer": "ipython3",
   "version": "3.11.10"
  }
 },
 "nbformat": 4,
 "nbformat_minor": 2
}
