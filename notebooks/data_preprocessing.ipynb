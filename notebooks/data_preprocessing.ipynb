{
 "cells": [
  {
   "cell_type": "markdown",
   "metadata": {},
   "source": [
    "# Preprocessing WhatsApp Google Play Reviews"
   ]
  },
  {
   "cell_type": "markdown",
   "metadata": {},
   "source": [
    "Import required libraries."
   ]
  },
  {
   "cell_type": "code",
   "execution_count": 14,
   "metadata": {},
   "outputs": [],
   "source": [
    "import pandas as pd\n",
    "from langdetect import detect_langs\n",
    "import re\n",
    "import seaborn as sns\n",
    "import matplotlib.pyplot as plt\n",
    "import os\n",
    "from pathlib import Path\n",
    "from utils.review_utils import get_google_play_data"
   ]
  },
  {
   "cell_type": "markdown",
   "metadata": {},
   "source": [
    "## Scraping and Analyzing Data\n",
    "\n",
    "First, scrape the reviews from the Google Play Store."
   ]
  },
  {
   "cell_type": "code",
   "execution_count": 15,
   "metadata": {},
   "outputs": [
    {
     "name": "stdout",
     "output_type": "stream",
     "text": [
      "Score  Content\n",
      "--------------\n",
      "1      I call this app scammer depot, because 97% of groups are just scammers trying to steal your money\n",
      "5      So good\n",
      "5      Goodl\n",
      "5      Cool\n",
      "5      Can\n"
     ]
    }
   ],
   "source": [
    "# Get reviews\n",
    "APP_ID = 'com.whatsapp'\n",
    "reviews = get_google_play_data(APP_ID)\n",
    "df = pd.DataFrame(reviews)\n",
    "\n",
    "# Print a few reviews (just the score and content)\n",
    "print('Score  Content')\n",
    "print('--------------')\n",
    "for i in range(5):\n",
    "    print(f\"{df.iloc[i]['score']:<7}{df.iloc[i]['content']}\")"
   ]
  },
  {
   "cell_type": "code",
   "execution_count": 16,
   "metadata": {},
   "outputs": [
    {
     "name": "stdout",
     "output_type": "stream",
     "text": [
      "Initially there are 328,500 reviews\n"
     ]
    }
   ],
   "source": [
    "# Print number of rows in the data\n",
    "rows0 = df.shape[0]\n",
    "print(f'Initially there are {rows0:,} reviews')"
   ]
  },
  {
   "cell_type": "markdown",
   "metadata": {},
   "source": [
    "The length of the reviews might give important insight into the quality of the review."
   ]
  },
  {
   "cell_type": "code",
   "execution_count": 17,
   "metadata": {},
   "outputs": [],
   "source": [
    "# Make column for word count (of the review content)\n",
    "df['word_count'] = df['content'].str.split().apply(lambda s: 0 if s == None else len(s))"
   ]
  },
  {
   "cell_type": "markdown",
   "metadata": {},
   "source": [
    "Plotting the distribution of the word counts of the reviews, we see that the vast majority of the reviews contain fewer than 10 words."
   ]
  },
  {
   "cell_type": "code",
   "execution_count": 18,
   "metadata": {},
   "outputs": [
    {
     "data": {
      "image/png": "[encoded data removed]",
      "text/plain": [
       "<Figure size 640x480 with 1 Axes>"
      ]
     },
     "metadata": {},
     "output_type": "display_data"
    }
   ],
   "source": [
    "# Histogram of the word count of the reviews\n",
    "sns.histplot(df['word_count'], bins=20)\n",
    "plt.xlabel('Number of Words')\n",
    "plt.ylabel('Frequency')\n",
    "plt.title('Distribution of String Lengths')\n",
    "plt.show()"
   ]
  },
  {
   "cell_type": "markdown",
   "metadata": {},
   "source": [
    "## Preprocessing Step 1: Removing Short Reviews\n",
    "\n",
    "We will remove short reviews, since they probably don't contain much useful information."
   ]
  },
  {
   "cell_type": "code",
   "execution_count": 19,
   "metadata": {},
   "outputs": [],
   "source": [
    "# Make column for word count (of the review content)\n",
    "df['word_count'] = df['content'].str.split().apply(lambda s: 0 if s == None else len(s))\n",
    "\n",
    "# Remove short reviews\n",
    "REVIEW_WORD_COUNT_THRESHOLD = 10\n",
    "df = df[df['word_count'] >= REVIEW_WORD_COUNT_THRESHOLD]"
   ]
  },
  {
   "cell_type": "code",
   "execution_count": 20,
   "metadata": {},
   "outputs": [
    {
     "name": "stdout",
     "output_type": "stream",
     "text": [
      "After filtering out short reviews, we have 60,538 reviews (removed 267,962 reviews)\n"
     ]
    }
   ],
   "source": [
    "# Print number of rows in the data after filtering out short reviews\n",
    "rows1 = df.shape[0]\n",
    "print(f'After filtering out short reviews, we have {rows1:,} reviews (removed {rows0 - rows1:,} reviews)')"
   ]
  },
  {
   "cell_type": "markdown",
   "metadata": {},
   "source": [
    "## Preprocessing Step 2: Removing Gibberish\n",
    "\n",
    "Upon some inspection of the data, there are many reviews that don't make sense (as in, are incomprehensible).\n",
    "\n",
    "The `contains_gibberish` function detects whether a string of text contains gibberish."
   ]
  },
  {
   "cell_type": "code",
   "execution_count": 21,
   "metadata": {},
   "outputs": [],
   "source": [
    "def contains_gibberish(text):\n",
    "    \"\"\"\n",
    "    Returns true if `text` contains gibberish, false otherwise.\n",
    "    \"\"\"\n",
    "    gibberish_patterns = [\n",
    "        r'(\\w)\\1{3,}', # Word character repeated 3 or more times\n",
    "        r'\\d{5,}'      # Sequence of 5 or more digits\n",
    "    ]\n",
    "\n",
    "    for pattern in gibberish_patterns:\n",
    "        if re.search(pattern, text):\n",
    "            return True\n",
    "    return False"
   ]
  },
  {
   "cell_type": "markdown",
   "metadata": {},
   "source": [
    "We apply the `contains_gibberish` function to remove reviews that contain signs of incomprehensible text."
   ]
  },
  {
   "cell_type": "code",
   "execution_count": 22,
   "metadata": {},
   "outputs": [],
   "source": [
    "# Filter out gibberish\n",
    "df = df[~df['content'].apply(contains_gibberish)]"
   ]
  },
  {
   "cell_type": "code",
   "execution_count": 23,
   "metadata": {},
   "outputs": [
    {
     "name": "stdout",
     "output_type": "stream",
     "text": [
      "After filtering out gibberish reviews, we have 59,922 reviews (removed 616 reviews)\n"
     ]
    }
   ],
   "source": [
    "# Print number of rows in the data after filtering out gibberish\n",
    "rows2 = df.shape[0]\n",
    "print(f'After filtering out gibberish reviews, we have {rows2:,} reviews (removed {rows1 - rows2:,} reviews)')"
   ]
  },
  {
   "cell_type": "markdown",
   "metadata": {},
   "source": [
    "## Preprocessing Step 3: Removing Non-English Reviews\n",
    "\n",
    "There are also many reviews that are not in english.\n",
    "To avoid having to translate reviews, we will just remove the non-english reviews.\n",
    "\n",
    "The `is_english` function below uses the [langdetect](https://pypi.org/project/langdetect/) Python library to predict whether a string of text is in english."
   ]
  },
  {
   "cell_type": "code",
   "execution_count": 24,
   "metadata": {},
   "outputs": [],
   "source": [
    "LANGUAGE_PROBABILITY_THRESHOLD = 0.999\n",
    "def is_english(text):\n",
    "    \"\"\"\n",
    "    Returns true if `text` is predicted to be in english with a high\n",
    "    probability, false otherwise.\n",
    "    \"\"\"\n",
    "    try:\n",
    "        # Get probabilities of the text being in certain languages\n",
    "        language_probabilities = detect_langs(text)\n",
    "\n",
    "        # If no prediction was able to be made, then assume not in english\n",
    "        if len(language_probabilities) == 0:\n",
    "            return False\n",
    "\n",
    "        # Get the most likely language of the text\n",
    "        most_likely_language = max(language_probabilities, key=lambda language: language.prob)\n",
    "\n",
    "        # If the most likely language is english with a probability higher than\n",
    "        # the threshold, then assume it is in english\n",
    "        if most_likely_language.lang == 'en' and most_likely_language.prob > LANGUAGE_PROBABILITY_THRESHOLD:\n",
    "            return True\n",
    "\n",
    "        # Otherwise assume not in english\n",
    "        return False\n",
    "    except:\n",
    "        # If an exception was raised during the prediction, assume not in english\n",
    "        return False"
   ]
  },
  {
   "cell_type": "markdown",
   "metadata": {},
   "source": [
    "Applying the `is_english` function, we see some examples of non-english reviews."
   ]
  },
  {
   "cell_type": "code",
   "execution_count": 25,
   "metadata": {},
   "outputs": [
    {
     "name": "stdout",
     "output_type": "stream",
     "text": [
      "'Mujhe ye chalane me dikkat aa rahi hai mera app open nahi hota hai number dalne ke baad otp aane se pahle hi kuch ho jaata hai open nahi hota hai app'\n",
      "\n",
      "'\\u0db8\\u0db8 \\u0dc0\\u0da7\\u0dca\\u0dc3\\u0dca\\u0d87\\u0db4\\u0dca \\u0dc4\\u0dd0\\u0daf\\u0dd4\\u0dc0\\u0dcf\\u0da7 \\u0db4\\u0dc3\\u0dca\\u0dc3\\u0dd9 \\u0db8\\u0db8 \\u0d9c\\u0ddc\\u0da9\\u0d9a\\u0dca \\u0dc3\\u0dad\\u0dd4\\u0da7\\u0dd4 \\u0dc0\\u0dd4\\u0dab\\u0dcf \\u0db8\\u0da7 \\u0d9c\\u0ddc\\u0da9\\u0d9a\\u0dca \\u0d9a\\u0ddc\\u0dbd\\u0dca\\u0dbd\\u0ddc \\u0dc3\\u0dd9\\u0da7\\u0dca\\u0dc0\\u0dd4\\u0db1\\u0dcf \\u0db8\\u0db8 \\u0d92 \\u0dc4\\u0dd0\\u0db8\\u0ddc\\u0da7\\u0db8 \\u0d86\\u0daf\\u0dbb\\u0dda \\u0d9a\\u0dbd\\u0dcf\\U0001f970 \\u0db8\\u0db8 \\u0d9c\\u0ddc\\u0da9\\u0d9a\\u0dca \\u0daf\\u0dd0\\u0db1\\u0dca \\u0dc3\\u0dad\\u0dd4\\u0da7\\u0dd2\\u0db1\\u0dca \\u0d89\\u0db1\\u0dca\\u0db1\\u0dd9'\n",
      "\n",
      "'Whastpp me ab buht msle hone lg gay na vedio open hori na voice na pics na status or nahi kuch send ho rha buht Pareeshani ho rhi he kam me plz jldi theek kren \\U0001f64f\\U0001f64f\\U0001f64f'\n",
      "\n",
      "'Me encata WhatsApp para extiat es la mejor app que e usado. \\U0001f917'\n",
      "\n",
      "'baar baar mera WhatsApp bandh kar diya ja raha hai lekin kyu ?'\n",
      "\n"
     ]
    }
   ],
   "source": [
    "df_non_english = df[~(df['content'].apply(is_english))]\n",
    "for i in range(5):\n",
    "    print(f\"{ascii(df_non_english.iloc[i]['content'])}\\n\")"
   ]
  },
  {
   "cell_type": "markdown",
   "metadata": {},
   "source": [
    "We apply the `is_english` function to remove these reviews."
   ]
  },
  {
   "cell_type": "code",
   "execution_count": 26,
   "metadata": {},
   "outputs": [],
   "source": [
    "# Filter out non-english reviews\n",
    "df = df[df['content'].apply(is_english)]"
   ]
  },
  {
   "cell_type": "code",
   "execution_count": 27,
   "metadata": {},
   "outputs": [
    {
     "name": "stdout",
     "output_type": "stream",
     "text": [
      "After filtering out non-english reviews, we have 54,164 reviews (removed 5,758 reviews)\n"
     ]
    }
   ],
   "source": [
    "# Print number of rows in the data after filtering out non-english reviews\n",
    "rows3 = df.shape[0]\n",
    "print(f'After filtering out non-english reviews, we have {rows3:,} reviews (removed {rows2 - rows3:,} reviews)')"
   ]
  },
  {
   "cell_type": "markdown",
   "metadata": {},
   "source": [
    "## Preprocessing Step 4: Splitting Reviews By Rating\n",
    "\n",
    "It is likely that reviews that rate the app highly will have positive things to say about the app, whereas reviews with lower ratings will contain complaints about the app.\n",
    "Positive reviews can be used to detect requirements that are being satisfied and negative reviews can point to ignored requirements (or new, previously unspecified requirements).\n",
    "\n",
    "Shown below, most of the reviews are 1 star, with 5 star reviews following close behind.\n",
    "Reviews with 2, 3, and 4 stars are significantly smaller in number, but when combined together have almost the same amount as the 1 and 5 star reviews."
   ]
  },
  {
   "cell_type": "code",
   "execution_count": 28,
   "metadata": {},
   "outputs": [
    {
     "name": "stdout",
     "output_type": "stream",
     "text": [
      "score\n",
      "1    20649\n",
      "2     4446\n",
      "3     5089\n",
      "4     5644\n",
      "5    18336\n",
      "Name: count, dtype: int64\n"
     ]
    }
   ],
   "source": [
    "# Print the counts of each rating\n",
    "print(df['score'].value_counts().sort_index())"
   ]
  },
  {
   "cell_type": "code",
   "execution_count": 29,
   "metadata": {},
   "outputs": [],
   "source": [
    "# Split the reviews into negative (1 star), mixed (2, 3, and 4 stars), and\n",
    "# positive (5 stars)\n",
    "df_negative = df[df['score'] == 1]\n",
    "df_mixed = df[(df['score'] == 2) | (df['score'] == 3) | (df['score'] == 4)]\n",
    "df_positive = df[df['score'] == 5]"
   ]
  },
  {
   "cell_type": "markdown",
   "metadata": {},
   "source": [
    "Shown below, the 1 star reviews are mostly negative,"
   ]
  },
  {
   "cell_type": "code",
   "execution_count": 30,
   "metadata": {},
   "outputs": [
    {
     "name": "stdout",
     "output_type": "stream",
     "text": [
      "I call this app scammer depot, because 97% of groups are just scammers trying to steal your money\n",
      "\n",
      "due to * ask meta al\" instead of \"Search\" option\n",
      "\n",
      "This app is really annoying how can u claim to be good when u allow people to spam user with virus and u haven't done anything about it honestly I'm ashamed\n",
      "\n",
      "Please provide sending option more than five times,it should be unlimited. Text status in urdu break the sequence of sentences kindly eliminate this problem.\n",
      "\n",
      "I don't have meta ai yet and I have updated and cleared my storage\n",
      "\n"
     ]
    }
   ],
   "source": [
    "for i in range(5):\n",
    "    print(f\"{df_negative.iloc[i]['content']}\\n\")"
   ]
  },
  {
   "cell_type": "markdown",
   "metadata": {},
   "source": [
    "the 2, 3, and 4 star reviews are mixed,"
   ]
  },
  {
   "cell_type": "code",
   "execution_count": 31,
   "metadata": {},
   "outputs": [
    {
     "name": "stdout",
     "output_type": "stream",
     "text": [
      "Recently I've been having a lot of problems getting photos and videos to play/download while using data. I don't understand why that is when I have a perfectly fine working package. I hope you guys can fix this cuz it's getting quite annoying.\n",
      "\n",
      "Suddenly can use Lock chats. The pull down so you can view isn't working. It was perfectly. Hiding messages for a surprise birthday party is great but can't access then unless someone messages in that group\n",
      "\n",
      "I start to enjoy your new features but i don't know why i have been blocked all the time. Tanx\n",
      "\n",
      "Am tired of updating it time to time,i think this very version of whatsapp is very old\n",
      "\n",
      "Good to use but some times its not downloading a file or pic or videos fix this\n",
      "\n"
     ]
    }
   ],
   "source": [
    "for i in range(5):\n",
    "    print(f\"{df_mixed.iloc[i]['content']}\\n\")"
   ]
  },
  {
   "cell_type": "markdown",
   "metadata": {},
   "source": [
    "and the 5 star reviews are mostly positive."
   ]
  },
  {
   "cell_type": "code",
   "execution_count": 32,
   "metadata": {},
   "outputs": [
    {
     "name": "stdout",
     "output_type": "stream",
     "text": [
      "I love WhatsApp it's help me with my work today\n",
      "\n",
      "That's good for calls and speak everyone from anywhere I thanks who makes app\n",
      "\n",
      "It's really cool but I'll suggest they bring up the live and the tagging feature\n",
      "\n",
      "That's great app ever. I really enjoy this application, and I don't know how to express my appreciation for this app, because I much very satisfied.\n",
      "\n",
      "Nice ! But i think you guys should add more features to meta AI\n",
      "\n"
     ]
    }
   ],
   "source": [
    "for i in range(5):\n",
    "    print(f\"{df_positive.iloc[i]['content']}\\n\")"
   ]
  },
  {
   "cell_type": "markdown",
   "metadata": {},
   "source": [
    "## Saving Preprocessed Data to Files\n",
    "\n",
    "As the last step, we will save the dataframes to CSV files so that they can be used later."
   ]
  },
  {
   "cell_type": "code",
   "execution_count": 33,
   "metadata": {},
   "outputs": [],
   "source": [
    "NOTEBOOK_PATH = Path(os.path.abspath(''))\n",
    "DATA_PATH = NOTEBOOK_PATH.parent / 'data'\n",
    "\n",
    "# Ensure data directory exists\n",
    "DATA_PATH.mkdir(exist_ok=True)"
   ]
  },
  {
   "cell_type": "code",
   "execution_count": 34,
   "metadata": {},
   "outputs": [],
   "source": [
    "# Save dataframes to csv files\n",
    "df_negative.to_csv(DATA_PATH / 'negative_reviews.csv', index=False)\n",
    "df_mixed.to_csv(DATA_PATH / 'mixed_reviews.csv', index=False)\n",
    "df_positive.to_csv(DATA_PATH / 'positive_reviews.csv', index=False)"
   ]
  }
 ],
 "metadata": {
  "kernelspec": {
   "display_name": "venv",
   "language": "python",
   "name": "python3"
  },
  "language_info": {
   "codemirror_mode": {
    "name": "ipython",
    "version": 3
   },
   "file_extension": ".py",
   "mimetype": "text/x-python",
   "name": "python",
   "nbconvert_exporter": "python",
   "pygments_lexer": "ipython3",
   "version": "3.11.10"
  }
 },
 "nbformat": 4,
 "nbformat_minor": 2
}
